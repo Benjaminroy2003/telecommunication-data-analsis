{
  "nbformat": 4,
  "nbformat_minor": 0,
  "metadata": {
    "colab": {
      "provenance": []
    },
    "kernelspec": {
      "name": "python3",
      "display_name": "Python 3"
    },
    "language_info": {
      "name": "python"
    }
  },
  "cells": [
    {
      "cell_type": "code",
      "execution_count": null,
      "metadata": {
        "id": "zyE2xQ0fweEl"
      },
      "outputs": [],
      "source": [
        "import pandas as pd\n",
        "df=pd.read_csv(\"/content/merged_data1.csv\")"
      ]
    },
    {
      "cell_type": "code",
      "source": [
        "df"
      ],
      "metadata": {
        "colab": {
          "base_uri": "https://localhost:8080/",
          "height": 1000
        },
        "id": "inI62PkOw2hv",
        "outputId": "8db48aa4-c595-4953-b5c4-77d7fcb5fe20"
      },
      "execution_count": null,
      "outputs": [
        {
          "output_type": "execute_result",
          "data": {
            "text/plain": [
              "      Customer_ID                                          verbatims  \\\n",
              "0             471  Customer service is no longer an option with y...   \n",
              "1            1057  My phone was stollen 5 days ago  I got the new...   \n",
              "2            1177  MTT needs to lower their plans    Im consideri...   \n",
              "3            1181  Phones were turned off due to past due bill  S...   \n",
              "4            1185                                       It was great   \n",
              "...           ...                                                ...   \n",
              "1270        75360  Wanted to know why it sometimes takes hours to...   \n",
              "1271        75364                 Happy so far with customer service   \n",
              "1272        75365                                                  1   \n",
              "1273        75371  Shakeel and Luis were awesome  Great personali...   \n",
              "1274        75372                    Have no problems anytime i call   \n",
              "\n",
              "                            call_center                  issue_level1  \\\n",
              "0                         Bothell - IRU             Bill and Payments   \n",
              "1                 Davenport Call Center                     Equipment   \n",
              "2                         Miramar - IRU             Bill and Payments   \n",
              "3     Convergys1 Receivables Management                       Account   \n",
              "4                         Miramar - IRU             Bill and Payments   \n",
              "...                                 ...                           ...   \n",
              "1270                Santo Domingo - IRU  Technical or Troubleshooting   \n",
              "1271                      Moravia - IRU                          Bill   \n",
              "1272                 Dallas Call Center                      Payments   \n",
              "1273                  Boise Call Center                     Equipment   \n",
              "1274                  Boise Call Center      Services Troubleshooting   \n",
              "\n",
              "                           issue_level2               call_category_1  \\\n",
              "0                 Equipment Upgrade Fee          Process & Efficiency   \n",
              "1     Equipment Change: Change IMEI/SIM  Product Range & Availability   \n",
              "2                     Process a Payment               Cost of Service   \n",
              "3                     Reinstate Account          Friendly & Courteous   \n",
              "4                  Payment Arrangements          Friendly & Courteous   \n",
              "...                                 ...                           ...   \n",
              "1270       Cannot Receive Text Messages  Product Range & Availability   \n",
              "1271                  Credit Adjustment          Process & Efficiency   \n",
              "1272               Payment Arrangements                   Helpfulness   \n",
              "1273                  3rd Party Charges          Process & Efficiency   \n",
              "1274                        myGTE Usage                 Miscellaneous   \n",
              "\n",
              "           call_category_2                                        resolution  \\\n",
              "0                      NaN                  Educated - Equipment upgrade fee   \n",
              "1        Upgrades/Renewals                            Resolved: Updated IMEI   \n",
              "2             Tech Support           Processed 1 time payment and PCF waived   \n",
              "3     Process & Efficiency                       Unable to Restore/Unsuspend   \n",
              "4                      NaN                         Made payment arrangements   \n",
              "...                    ...                                               ...   \n",
              "1270            Competitor                            Cancelled Registration   \n",
              "1271                   NaN                                         Completed   \n",
              "1272                   NaN  Set up Payment Arrangement and Scheduled Payment   \n",
              "1273                   NaN       Resolved: Applied refund/ blocked purchases   \n",
              "1274                   NaN                       Resolved: Shared how to use   \n",
              "\n",
              "      upsell_xsell  churn  ...  MB_Data_Usg_M05  MB_Data_Usg_M06  \\\n",
              "0                0      0  ...              0.0              0.0   \n",
              "1                0      0  ...              0.0              0.0   \n",
              "2                0      0  ...              0.0              0.0   \n",
              "3                0      0  ...              0.0              0.0   \n",
              "4                0      1  ...              0.0              0.0   \n",
              "...            ...    ...  ...              ...              ...   \n",
              "1270             0      0  ...              0.0              0.0   \n",
              "1271             0      0  ...              0.0              0.0   \n",
              "1272             0      0  ...              0.0              0.0   \n",
              "1273             0      0  ...              0.0              0.0   \n",
              "1274             0      0  ...              NaN              NaN   \n",
              "\n",
              "      MB_Data_Usg_M07  MB_Data_Usg_M08  MB_Data_Usg_M09  seconds_of_data_norm  \\\n",
              "0                 0.0              0.0              0.0                  60.0   \n",
              "1                 0.0            330.0            646.0               48300.0   \n",
              "2                 0.0              0.0              0.0               14700.0   \n",
              "3                 0.0              0.0              0.0                   0.0   \n",
              "4                 0.0              0.0              0.0               15840.0   \n",
              "...               ...              ...              ...                   ...   \n",
              "1270              0.0              0.0              0.0               21480.0   \n",
              "1271              0.0              0.0              0.0                 264.0   \n",
              "1272              0.0              0.0              0.0               17880.0   \n",
              "1273              0.0              0.0              0.0                6300.0   \n",
              "1274              NaN              NaN              NaN                   NaN   \n",
              "\n",
              "      seconds_of_data_log  verbatims1  sentiment_category  sentiment_score  \n",
              "0                4.110874         0.0             Neutral         0.000000  \n",
              "1               10.785208         0.0            Positive         0.068182  \n",
              "2                9.595671         0.0            Negative        -0.166667  \n",
              "3                0.000000        -0.5            Negative        -0.035455  \n",
              "4                9.670357         0.0            Positive         0.800000  \n",
              "...                   ...         ...                 ...              ...  \n",
              "1270             9.974924         0.0            Positive         0.475000  \n",
              "1271             5.579730         0.0            Positive         0.450000  \n",
              "1272             9.791494         0.0             Neutral         0.000000  \n",
              "1273             8.748464         0.0            Positive         0.900000  \n",
              "1274                  NaN         NaN                 NaN              NaN  \n",
              "\n",
              "[1275 rows x 120 columns]"
            ],
            "text/html": [
              "\n",
              "  <div id=\"df-3bbe2d9e-789e-45f5-a5a7-51842b90e600\" class=\"colab-df-container\">\n",
              "    <div>\n",
              "<style scoped>\n",
              "    .dataframe tbody tr th:only-of-type {\n",
              "        vertical-align: middle;\n",
              "    }\n",
              "\n",
              "    .dataframe tbody tr th {\n",
              "        vertical-align: top;\n",
              "    }\n",
              "\n",
              "    .dataframe thead th {\n",
              "        text-align: right;\n",
              "    }\n",
              "</style>\n",
              "<table border=\"1\" class=\"dataframe\">\n",
              "  <thead>\n",
              "    <tr style=\"text-align: right;\">\n",
              "      <th></th>\n",
              "      <th>Customer_ID</th>\n",
              "      <th>verbatims</th>\n",
              "      <th>call_center</th>\n",
              "      <th>issue_level1</th>\n",
              "      <th>issue_level2</th>\n",
              "      <th>call_category_1</th>\n",
              "      <th>call_category_2</th>\n",
              "      <th>resolution</th>\n",
              "      <th>upsell_xsell</th>\n",
              "      <th>churn</th>\n",
              "      <th>...</th>\n",
              "      <th>MB_Data_Usg_M05</th>\n",
              "      <th>MB_Data_Usg_M06</th>\n",
              "      <th>MB_Data_Usg_M07</th>\n",
              "      <th>MB_Data_Usg_M08</th>\n",
              "      <th>MB_Data_Usg_M09</th>\n",
              "      <th>seconds_of_data_norm</th>\n",
              "      <th>seconds_of_data_log</th>\n",
              "      <th>verbatims1</th>\n",
              "      <th>sentiment_category</th>\n",
              "      <th>sentiment_score</th>\n",
              "    </tr>\n",
              "  </thead>\n",
              "  <tbody>\n",
              "    <tr>\n",
              "      <th>0</th>\n",
              "      <td>471</td>\n",
              "      <td>Customer service is no longer an option with y...</td>\n",
              "      <td>Bothell - IRU</td>\n",
              "      <td>Bill and Payments</td>\n",
              "      <td>Equipment Upgrade Fee</td>\n",
              "      <td>Process &amp; Efficiency</td>\n",
              "      <td>NaN</td>\n",
              "      <td>Educated - Equipment upgrade fee</td>\n",
              "      <td>0</td>\n",
              "      <td>0</td>\n",
              "      <td>...</td>\n",
              "      <td>0.0</td>\n",
              "      <td>0.0</td>\n",
              "      <td>0.0</td>\n",
              "      <td>0.0</td>\n",
              "      <td>0.0</td>\n",
              "      <td>60.0</td>\n",
              "      <td>4.110874</td>\n",
              "      <td>0.0</td>\n",
              "      <td>Neutral</td>\n",
              "      <td>0.000000</td>\n",
              "    </tr>\n",
              "    <tr>\n",
              "      <th>1</th>\n",
              "      <td>1057</td>\n",
              "      <td>My phone was stollen 5 days ago  I got the new...</td>\n",
              "      <td>Davenport Call Center</td>\n",
              "      <td>Equipment</td>\n",
              "      <td>Equipment Change: Change IMEI/SIM</td>\n",
              "      <td>Product Range &amp; Availability</td>\n",
              "      <td>Upgrades/Renewals</td>\n",
              "      <td>Resolved: Updated IMEI</td>\n",
              "      <td>0</td>\n",
              "      <td>0</td>\n",
              "      <td>...</td>\n",
              "      <td>0.0</td>\n",
              "      <td>0.0</td>\n",
              "      <td>0.0</td>\n",
              "      <td>330.0</td>\n",
              "      <td>646.0</td>\n",
              "      <td>48300.0</td>\n",
              "      <td>10.785208</td>\n",
              "      <td>0.0</td>\n",
              "      <td>Positive</td>\n",
              "      <td>0.068182</td>\n",
              "    </tr>\n",
              "    <tr>\n",
              "      <th>2</th>\n",
              "      <td>1177</td>\n",
              "      <td>MTT needs to lower their plans    Im consideri...</td>\n",
              "      <td>Miramar - IRU</td>\n",
              "      <td>Bill and Payments</td>\n",
              "      <td>Process a Payment</td>\n",
              "      <td>Cost of Service</td>\n",
              "      <td>Tech Support</td>\n",
              "      <td>Processed 1 time payment and PCF waived</td>\n",
              "      <td>0</td>\n",
              "      <td>0</td>\n",
              "      <td>...</td>\n",
              "      <td>0.0</td>\n",
              "      <td>0.0</td>\n",
              "      <td>0.0</td>\n",
              "      <td>0.0</td>\n",
              "      <td>0.0</td>\n",
              "      <td>14700.0</td>\n",
              "      <td>9.595671</td>\n",
              "      <td>0.0</td>\n",
              "      <td>Negative</td>\n",
              "      <td>-0.166667</td>\n",
              "    </tr>\n",
              "    <tr>\n",
              "      <th>3</th>\n",
              "      <td>1181</td>\n",
              "      <td>Phones were turned off due to past due bill  S...</td>\n",
              "      <td>Convergys1 Receivables Management</td>\n",
              "      <td>Account</td>\n",
              "      <td>Reinstate Account</td>\n",
              "      <td>Friendly &amp; Courteous</td>\n",
              "      <td>Process &amp; Efficiency</td>\n",
              "      <td>Unable to Restore/Unsuspend</td>\n",
              "      <td>0</td>\n",
              "      <td>0</td>\n",
              "      <td>...</td>\n",
              "      <td>0.0</td>\n",
              "      <td>0.0</td>\n",
              "      <td>0.0</td>\n",
              "      <td>0.0</td>\n",
              "      <td>0.0</td>\n",
              "      <td>0.0</td>\n",
              "      <td>0.000000</td>\n",
              "      <td>-0.5</td>\n",
              "      <td>Negative</td>\n",
              "      <td>-0.035455</td>\n",
              "    </tr>\n",
              "    <tr>\n",
              "      <th>4</th>\n",
              "      <td>1185</td>\n",
              "      <td>It was great</td>\n",
              "      <td>Miramar - IRU</td>\n",
              "      <td>Bill and Payments</td>\n",
              "      <td>Payment Arrangements</td>\n",
              "      <td>Friendly &amp; Courteous</td>\n",
              "      <td>NaN</td>\n",
              "      <td>Made payment arrangements</td>\n",
              "      <td>0</td>\n",
              "      <td>1</td>\n",
              "      <td>...</td>\n",
              "      <td>0.0</td>\n",
              "      <td>0.0</td>\n",
              "      <td>0.0</td>\n",
              "      <td>0.0</td>\n",
              "      <td>0.0</td>\n",
              "      <td>15840.0</td>\n",
              "      <td>9.670357</td>\n",
              "      <td>0.0</td>\n",
              "      <td>Positive</td>\n",
              "      <td>0.800000</td>\n",
              "    </tr>\n",
              "    <tr>\n",
              "      <th>...</th>\n",
              "      <td>...</td>\n",
              "      <td>...</td>\n",
              "      <td>...</td>\n",
              "      <td>...</td>\n",
              "      <td>...</td>\n",
              "      <td>...</td>\n",
              "      <td>...</td>\n",
              "      <td>...</td>\n",
              "      <td>...</td>\n",
              "      <td>...</td>\n",
              "      <td>...</td>\n",
              "      <td>...</td>\n",
              "      <td>...</td>\n",
              "      <td>...</td>\n",
              "      <td>...</td>\n",
              "      <td>...</td>\n",
              "      <td>...</td>\n",
              "      <td>...</td>\n",
              "      <td>...</td>\n",
              "      <td>...</td>\n",
              "      <td>...</td>\n",
              "    </tr>\n",
              "    <tr>\n",
              "      <th>1270</th>\n",
              "      <td>75360</td>\n",
              "      <td>Wanted to know why it sometimes takes hours to...</td>\n",
              "      <td>Santo Domingo - IRU</td>\n",
              "      <td>Technical or Troubleshooting</td>\n",
              "      <td>Cannot Receive Text Messages</td>\n",
              "      <td>Product Range &amp; Availability</td>\n",
              "      <td>Competitor</td>\n",
              "      <td>Cancelled Registration</td>\n",
              "      <td>0</td>\n",
              "      <td>0</td>\n",
              "      <td>...</td>\n",
              "      <td>0.0</td>\n",
              "      <td>0.0</td>\n",
              "      <td>0.0</td>\n",
              "      <td>0.0</td>\n",
              "      <td>0.0</td>\n",
              "      <td>21480.0</td>\n",
              "      <td>9.974924</td>\n",
              "      <td>0.0</td>\n",
              "      <td>Positive</td>\n",
              "      <td>0.475000</td>\n",
              "    </tr>\n",
              "    <tr>\n",
              "      <th>1271</th>\n",
              "      <td>75364</td>\n",
              "      <td>Happy so far with customer service</td>\n",
              "      <td>Moravia - IRU</td>\n",
              "      <td>Bill</td>\n",
              "      <td>Credit Adjustment</td>\n",
              "      <td>Process &amp; Efficiency</td>\n",
              "      <td>NaN</td>\n",
              "      <td>Completed</td>\n",
              "      <td>0</td>\n",
              "      <td>0</td>\n",
              "      <td>...</td>\n",
              "      <td>0.0</td>\n",
              "      <td>0.0</td>\n",
              "      <td>0.0</td>\n",
              "      <td>0.0</td>\n",
              "      <td>0.0</td>\n",
              "      <td>264.0</td>\n",
              "      <td>5.579730</td>\n",
              "      <td>0.0</td>\n",
              "      <td>Positive</td>\n",
              "      <td>0.450000</td>\n",
              "    </tr>\n",
              "    <tr>\n",
              "      <th>1272</th>\n",
              "      <td>75365</td>\n",
              "      <td>1</td>\n",
              "      <td>Dallas Call Center</td>\n",
              "      <td>Payments</td>\n",
              "      <td>Payment Arrangements</td>\n",
              "      <td>Helpfulness</td>\n",
              "      <td>NaN</td>\n",
              "      <td>Set up Payment Arrangement and Scheduled Payment</td>\n",
              "      <td>0</td>\n",
              "      <td>0</td>\n",
              "      <td>...</td>\n",
              "      <td>0.0</td>\n",
              "      <td>0.0</td>\n",
              "      <td>0.0</td>\n",
              "      <td>0.0</td>\n",
              "      <td>0.0</td>\n",
              "      <td>17880.0</td>\n",
              "      <td>9.791494</td>\n",
              "      <td>0.0</td>\n",
              "      <td>Neutral</td>\n",
              "      <td>0.000000</td>\n",
              "    </tr>\n",
              "    <tr>\n",
              "      <th>1273</th>\n",
              "      <td>75371</td>\n",
              "      <td>Shakeel and Luis were awesome  Great personali...</td>\n",
              "      <td>Boise Call Center</td>\n",
              "      <td>Equipment</td>\n",
              "      <td>3rd Party Charges</td>\n",
              "      <td>Process &amp; Efficiency</td>\n",
              "      <td>NaN</td>\n",
              "      <td>Resolved: Applied refund/ blocked purchases</td>\n",
              "      <td>0</td>\n",
              "      <td>0</td>\n",
              "      <td>...</td>\n",
              "      <td>0.0</td>\n",
              "      <td>0.0</td>\n",
              "      <td>0.0</td>\n",
              "      <td>0.0</td>\n",
              "      <td>0.0</td>\n",
              "      <td>6300.0</td>\n",
              "      <td>8.748464</td>\n",
              "      <td>0.0</td>\n",
              "      <td>Positive</td>\n",
              "      <td>0.900000</td>\n",
              "    </tr>\n",
              "    <tr>\n",
              "      <th>1274</th>\n",
              "      <td>75372</td>\n",
              "      <td>Have no problems anytime i call</td>\n",
              "      <td>Boise Call Center</td>\n",
              "      <td>Services Troubleshooting</td>\n",
              "      <td>myGTE Usage</td>\n",
              "      <td>Miscellaneous</td>\n",
              "      <td>NaN</td>\n",
              "      <td>Resolved: Shared how to use</td>\n",
              "      <td>0</td>\n",
              "      <td>0</td>\n",
              "      <td>...</td>\n",
              "      <td>NaN</td>\n",
              "      <td>NaN</td>\n",
              "      <td>NaN</td>\n",
              "      <td>NaN</td>\n",
              "      <td>NaN</td>\n",
              "      <td>NaN</td>\n",
              "      <td>NaN</td>\n",
              "      <td>NaN</td>\n",
              "      <td>NaN</td>\n",
              "      <td>NaN</td>\n",
              "    </tr>\n",
              "  </tbody>\n",
              "</table>\n",
              "<p>1275 rows × 120 columns</p>\n",
              "</div>\n",
              "    <div class=\"colab-df-buttons\">\n",
              "\n",
              "  <div class=\"colab-df-container\">\n",
              "    <button class=\"colab-df-convert\" onclick=\"convertToInteractive('df-3bbe2d9e-789e-45f5-a5a7-51842b90e600')\"\n",
              "            title=\"Convert this dataframe to an interactive table.\"\n",
              "            style=\"display:none;\">\n",
              "\n",
              "  <svg xmlns=\"http://www.w3.org/2000/svg\" height=\"24px\" viewBox=\"0 -960 960 960\">\n",
              "    <path d=\"M120-120v-720h720v720H120Zm60-500h600v-160H180v160Zm220 220h160v-160H400v160Zm0 220h160v-160H400v160ZM180-400h160v-160H180v160Zm440 0h160v-160H620v160ZM180-180h160v-160H180v160Zm440 0h160v-160H620v160Z\"/>\n",
              "  </svg>\n",
              "    </button>\n",
              "\n",
              "  <style>\n",
              "    .colab-df-container {\n",
              "      display:flex;\n",
              "      gap: 12px;\n",
              "    }\n",
              "\n",
              "    .colab-df-convert {\n",
              "      background-color: #E8F0FE;\n",
              "      border: none;\n",
              "      border-radius: 50%;\n",
              "      cursor: pointer;\n",
              "      display: none;\n",
              "      fill: #1967D2;\n",
              "      height: 32px;\n",
              "      padding: 0 0 0 0;\n",
              "      width: 32px;\n",
              "    }\n",
              "\n",
              "    .colab-df-convert:hover {\n",
              "      background-color: #E2EBFA;\n",
              "      box-shadow: 0px 1px 2px rgba(60, 64, 67, 0.3), 0px 1px 3px 1px rgba(60, 64, 67, 0.15);\n",
              "      fill: #174EA6;\n",
              "    }\n",
              "\n",
              "    .colab-df-buttons div {\n",
              "      margin-bottom: 4px;\n",
              "    }\n",
              "\n",
              "    [theme=dark] .colab-df-convert {\n",
              "      background-color: #3B4455;\n",
              "      fill: #D2E3FC;\n",
              "    }\n",
              "\n",
              "    [theme=dark] .colab-df-convert:hover {\n",
              "      background-color: #434B5C;\n",
              "      box-shadow: 0px 1px 3px 1px rgba(0, 0, 0, 0.15);\n",
              "      filter: drop-shadow(0px 1px 2px rgba(0, 0, 0, 0.3));\n",
              "      fill: #FFFFFF;\n",
              "    }\n",
              "  </style>\n",
              "\n",
              "    <script>\n",
              "      const buttonEl =\n",
              "        document.querySelector('#df-3bbe2d9e-789e-45f5-a5a7-51842b90e600 button.colab-df-convert');\n",
              "      buttonEl.style.display =\n",
              "        google.colab.kernel.accessAllowed ? 'block' : 'none';\n",
              "\n",
              "      async function convertToInteractive(key) {\n",
              "        const element = document.querySelector('#df-3bbe2d9e-789e-45f5-a5a7-51842b90e600');\n",
              "        const dataTable =\n",
              "          await google.colab.kernel.invokeFunction('convertToInteractive',\n",
              "                                                    [key], {});\n",
              "        if (!dataTable) return;\n",
              "\n",
              "        const docLinkHtml = 'Like what you see? Visit the ' +\n",
              "          '<a target=\"_blank\" href=https://colab.research.google.com/notebooks/data_table.ipynb>data table notebook</a>'\n",
              "          + ' to learn more about interactive tables.';\n",
              "        element.innerHTML = '';\n",
              "        dataTable['output_type'] = 'display_data';\n",
              "        await google.colab.output.renderOutput(dataTable, element);\n",
              "        const docLink = document.createElement('div');\n",
              "        docLink.innerHTML = docLinkHtml;\n",
              "        element.appendChild(docLink);\n",
              "      }\n",
              "    </script>\n",
              "  </div>\n",
              "\n",
              "\n",
              "<div id=\"df-a507dfcc-a2ef-4a6a-9ee1-c204f8c28048\">\n",
              "  <button class=\"colab-df-quickchart\" onclick=\"quickchart('df-a507dfcc-a2ef-4a6a-9ee1-c204f8c28048')\"\n",
              "            title=\"Suggest charts\"\n",
              "            style=\"display:none;\">\n",
              "\n",
              "<svg xmlns=\"http://www.w3.org/2000/svg\" height=\"24px\"viewBox=\"0 0 24 24\"\n",
              "     width=\"24px\">\n",
              "    <g>\n",
              "        <path d=\"M19 3H5c-1.1 0-2 .9-2 2v14c0 1.1.9 2 2 2h14c1.1 0 2-.9 2-2V5c0-1.1-.9-2-2-2zM9 17H7v-7h2v7zm4 0h-2V7h2v10zm4 0h-2v-4h2v4z\"/>\n",
              "    </g>\n",
              "</svg>\n",
              "  </button>\n",
              "\n",
              "<style>\n",
              "  .colab-df-quickchart {\n",
              "      --bg-color: #E8F0FE;\n",
              "      --fill-color: #1967D2;\n",
              "      --hover-bg-color: #E2EBFA;\n",
              "      --hover-fill-color: #174EA6;\n",
              "      --disabled-fill-color: #AAA;\n",
              "      --disabled-bg-color: #DDD;\n",
              "  }\n",
              "\n",
              "  [theme=dark] .colab-df-quickchart {\n",
              "      --bg-color: #3B4455;\n",
              "      --fill-color: #D2E3FC;\n",
              "      --hover-bg-color: #434B5C;\n",
              "      --hover-fill-color: #FFFFFF;\n",
              "      --disabled-bg-color: #3B4455;\n",
              "      --disabled-fill-color: #666;\n",
              "  }\n",
              "\n",
              "  .colab-df-quickchart {\n",
              "    background-color: var(--bg-color);\n",
              "    border: none;\n",
              "    border-radius: 50%;\n",
              "    cursor: pointer;\n",
              "    display: none;\n",
              "    fill: var(--fill-color);\n",
              "    height: 32px;\n",
              "    padding: 0;\n",
              "    width: 32px;\n",
              "  }\n",
              "\n",
              "  .colab-df-quickchart:hover {\n",
              "    background-color: var(--hover-bg-color);\n",
              "    box-shadow: 0 1px 2px rgba(60, 64, 67, 0.3), 0 1px 3px 1px rgba(60, 64, 67, 0.15);\n",
              "    fill: var(--button-hover-fill-color);\n",
              "  }\n",
              "\n",
              "  .colab-df-quickchart-complete:disabled,\n",
              "  .colab-df-quickchart-complete:disabled:hover {\n",
              "    background-color: var(--disabled-bg-color);\n",
              "    fill: var(--disabled-fill-color);\n",
              "    box-shadow: none;\n",
              "  }\n",
              "\n",
              "  .colab-df-spinner {\n",
              "    border: 2px solid var(--fill-color);\n",
              "    border-color: transparent;\n",
              "    border-bottom-color: var(--fill-color);\n",
              "    animation:\n",
              "      spin 1s steps(1) infinite;\n",
              "  }\n",
              "\n",
              "  @keyframes spin {\n",
              "    0% {\n",
              "      border-color: transparent;\n",
              "      border-bottom-color: var(--fill-color);\n",
              "      border-left-color: var(--fill-color);\n",
              "    }\n",
              "    20% {\n",
              "      border-color: transparent;\n",
              "      border-left-color: var(--fill-color);\n",
              "      border-top-color: var(--fill-color);\n",
              "    }\n",
              "    30% {\n",
              "      border-color: transparent;\n",
              "      border-left-color: var(--fill-color);\n",
              "      border-top-color: var(--fill-color);\n",
              "      border-right-color: var(--fill-color);\n",
              "    }\n",
              "    40% {\n",
              "      border-color: transparent;\n",
              "      border-right-color: var(--fill-color);\n",
              "      border-top-color: var(--fill-color);\n",
              "    }\n",
              "    60% {\n",
              "      border-color: transparent;\n",
              "      border-right-color: var(--fill-color);\n",
              "    }\n",
              "    80% {\n",
              "      border-color: transparent;\n",
              "      border-right-color: var(--fill-color);\n",
              "      border-bottom-color: var(--fill-color);\n",
              "    }\n",
              "    90% {\n",
              "      border-color: transparent;\n",
              "      border-bottom-color: var(--fill-color);\n",
              "    }\n",
              "  }\n",
              "</style>\n",
              "\n",
              "  <script>\n",
              "    async function quickchart(key) {\n",
              "      const quickchartButtonEl =\n",
              "        document.querySelector('#' + key + ' button');\n",
              "      quickchartButtonEl.disabled = true;  // To prevent multiple clicks.\n",
              "      quickchartButtonEl.classList.add('colab-df-spinner');\n",
              "      try {\n",
              "        const charts = await google.colab.kernel.invokeFunction(\n",
              "            'suggestCharts', [key], {});\n",
              "      } catch (error) {\n",
              "        console.error('Error during call to suggestCharts:', error);\n",
              "      }\n",
              "      quickchartButtonEl.classList.remove('colab-df-spinner');\n",
              "      quickchartButtonEl.classList.add('colab-df-quickchart-complete');\n",
              "    }\n",
              "    (() => {\n",
              "      let quickchartButtonEl =\n",
              "        document.querySelector('#df-a507dfcc-a2ef-4a6a-9ee1-c204f8c28048 button');\n",
              "      quickchartButtonEl.style.display =\n",
              "        google.colab.kernel.accessAllowed ? 'block' : 'none';\n",
              "    })();\n",
              "  </script>\n",
              "</div>\n",
              "\n",
              "  <div id=\"id_dc202a6e-cda0-41d8-9ce7-34b577e5d3c3\">\n",
              "    <style>\n",
              "      .colab-df-generate {\n",
              "        background-color: #E8F0FE;\n",
              "        border: none;\n",
              "        border-radius: 50%;\n",
              "        cursor: pointer;\n",
              "        display: none;\n",
              "        fill: #1967D2;\n",
              "        height: 32px;\n",
              "        padding: 0 0 0 0;\n",
              "        width: 32px;\n",
              "      }\n",
              "\n",
              "      .colab-df-generate:hover {\n",
              "        background-color: #E2EBFA;\n",
              "        box-shadow: 0px 1px 2px rgba(60, 64, 67, 0.3), 0px 1px 3px 1px rgba(60, 64, 67, 0.15);\n",
              "        fill: #174EA6;\n",
              "      }\n",
              "\n",
              "      [theme=dark] .colab-df-generate {\n",
              "        background-color: #3B4455;\n",
              "        fill: #D2E3FC;\n",
              "      }\n",
              "\n",
              "      [theme=dark] .colab-df-generate:hover {\n",
              "        background-color: #434B5C;\n",
              "        box-shadow: 0px 1px 3px 1px rgba(0, 0, 0, 0.15);\n",
              "        filter: drop-shadow(0px 1px 2px rgba(0, 0, 0, 0.3));\n",
              "        fill: #FFFFFF;\n",
              "      }\n",
              "    </style>\n",
              "    <button class=\"colab-df-generate\" onclick=\"generateWithVariable('df')\"\n",
              "            title=\"Generate code using this dataframe.\"\n",
              "            style=\"display:none;\">\n",
              "\n",
              "  <svg xmlns=\"http://www.w3.org/2000/svg\" height=\"24px\"viewBox=\"0 0 24 24\"\n",
              "       width=\"24px\">\n",
              "    <path d=\"M7,19H8.4L18.45,9,17,7.55,7,17.6ZM5,21V16.75L18.45,3.32a2,2,0,0,1,2.83,0l1.4,1.43a1.91,1.91,0,0,1,.58,1.4,1.91,1.91,0,0,1-.58,1.4L9.25,21ZM18.45,9,17,7.55Zm-12,3A5.31,5.31,0,0,0,4.9,8.1,5.31,5.31,0,0,0,1,6.5,5.31,5.31,0,0,0,4.9,4.9,5.31,5.31,0,0,0,6.5,1,5.31,5.31,0,0,0,8.1,4.9,5.31,5.31,0,0,0,12,6.5,5.46,5.46,0,0,0,6.5,12Z\"/>\n",
              "  </svg>\n",
              "    </button>\n",
              "    <script>\n",
              "      (() => {\n",
              "      const buttonEl =\n",
              "        document.querySelector('#id_dc202a6e-cda0-41d8-9ce7-34b577e5d3c3 button.colab-df-generate');\n",
              "      buttonEl.style.display =\n",
              "        google.colab.kernel.accessAllowed ? 'block' : 'none';\n",
              "\n",
              "      buttonEl.onclick = () => {\n",
              "        google.colab.notebook.generateWithVariable('df');\n",
              "      }\n",
              "      })();\n",
              "    </script>\n",
              "  </div>\n",
              "\n",
              "    </div>\n",
              "  </div>\n"
            ],
            "application/vnd.google.colaboratory.intrinsic+json": {
              "type": "dataframe",
              "variable_name": "df"
            }
          },
          "metadata": {},
          "execution_count": 2
        }
      ]
    },
    {
      "cell_type": "code",
      "source": [
        "col_names=df.columns"
      ],
      "metadata": {
        "id": "4eEDLqRXw6c0"
      },
      "execution_count": null,
      "outputs": []
    },
    {
      "cell_type": "code",
      "source": [
        "for x in col_names:\n",
        "  print(x)"
      ],
      "metadata": {
        "colab": {
          "base_uri": "https://localhost:8080/"
        },
        "id": "UAj80C2HxjK-",
        "outputId": "05b0873c-af09-46a2-b5b0-091dac5d93c6"
      },
      "execution_count": null,
      "outputs": [
        {
          "output_type": "stream",
          "name": "stdout",
          "text": [
            "Customer_ID\n",
            "verbatims\n",
            "call_center\n",
            "issue_level1\n",
            "issue_level2\n",
            "call_category_1\n",
            "call_category_2\n",
            "resolution\n",
            "upsell_xsell\n",
            "churn\n",
            "lifetime_value\n",
            "avg_arpu_3m\n",
            "acct_age\n",
            "billing_cycle\n",
            "nbr_contracts_ltd\n",
            "credit_class\n",
            "sales_channel\n",
            "rfm_score\n",
            "Est_HH_Income\n",
            "zipcode_primary\n",
            "cs_med_home_value\n",
            "cs_pct_home_owner\n",
            "cs_ttl_pop\n",
            "cs_hispanic\n",
            "cs_caucasian\n",
            "cs_afr_amer\n",
            "cs_other\n",
            "cs_ttl_urban\n",
            "cs_ttl_rural\n",
            "cs_ttl_male\n",
            "cs_ttl_female\n",
            "cs_ttl_hhlds\n",
            "cs_ttl_mdage\n",
            "forecast_region\n",
            "product_plan_desc\n",
            "mb_inclplan\n",
            "ever_days_over_plan\n",
            "ever_times_over_plan\n",
            "handset_age_grp\n",
            "handset\n",
            "lifestage\n",
            "rp_pooled_ind\n",
            "data_device_age\n",
            "equip_age\n",
            "mfg_apple\n",
            "mfg_samsung\n",
            "mfg_htc\n",
            "mfg_motorola\n",
            "mfg_lg\n",
            "mfg_nokia\n",
            "delinq_indicator\n",
            "times_delinq\n",
            "count_of_suspensions_6m\n",
            "avg_days_susp\n",
            "calls_total\n",
            "calls_in_pk\n",
            "calls_in_offpk\n",
            "calls_out_offpk\n",
            "calls_out_pk\n",
            "mou_total_pct_MOM\n",
            "mou_onnet_pct_MOM\n",
            "mou_roam_pct_MOM\n",
            "mou_onnet_6m_normal\n",
            "mou_roam_6m_normal\n",
            "voice_tot_bill_mou_curr\n",
            "tot_voice_chrgs_curr\n",
            "tot_drpd_pr1\n",
            "bill_data_usg_m03\n",
            "bill_data_usg_m06\n",
            "bill_data_usg_m09\n",
            "mb_data_usg_m01\n",
            "mb_data_usg_m02\n",
            "mb_data_usg_m03\n",
            "mb_data_ndist_mo6m\n",
            "mb_data_usg_roamm01\n",
            "mb_data_usg_roamm02\n",
            "mb_data_usg_roamm03\n",
            "data_usage_amt\n",
            "tweedie_adjusted\n",
            "tot_mb_data_curr\n",
            "tot_mb_data_roam_curr\n",
            "bill_data_usg_tot\n",
            "tot_overage_chgs\n",
            "data_prem_chrgs_curr\n",
            "nbr_data_cdrs\n",
            "avg_data_chrgs_3m\n",
            "avg_data_prem_chrgs_3m\n",
            "avg_overage_chrgs_3m\n",
            "nbr_contacts\n",
            "calls_TS_acct\n",
            "open_tsupcomplnts\n",
            "num_tsupcomplnts\n",
            "unsolv_tsupcomplnt\n",
            "wrk_orders\n",
            "days_openwrkorders\n",
            "resolved_complnts\n",
            "calls_care_acct\n",
            "calls_care_3mavg_acct\n",
            "calls_care_6mavg_acct\n",
            "res_calls_3mavg_acct\n",
            "res_calls_6mavg_acct\n",
            "last_rep_sat_score\n",
            "network_mention\n",
            "service_mention\n",
            "price_mention\n",
            "times_susp\n",
            "curr_days_susp\n",
            "pymts_late_ltd\n",
            "calls_care_ltd\n",
            "MB_Data_Usg_M04\n",
            "MB_Data_Usg_M05\n",
            "MB_Data_Usg_M06\n",
            "MB_Data_Usg_M07\n",
            "MB_Data_Usg_M08\n",
            "MB_Data_Usg_M09\n",
            "seconds_of_data_norm\n",
            "seconds_of_data_log\n",
            "verbatims1\n",
            "sentiment_category\n",
            "sentiment_score\n"
          ]
        }
      ]
    },
    {
      "cell_type": "code",
      "source": [
        "o = df.select_dtypes(include=['object'])\n",
        "o.dtypes"
      ],
      "metadata": {
        "colab": {
          "base_uri": "https://localhost:8080/"
        },
        "id": "G9xISzu3xwtN",
        "outputId": "aa23cacb-0eb6-4490-b63f-16ff9dbd104b"
      },
      "execution_count": null,
      "outputs": [
        {
          "output_type": "execute_result",
          "data": {
            "text/plain": [
              "verbatims             object\n",
              "call_center           object\n",
              "issue_level1          object\n",
              "issue_level2          object\n",
              "call_category_1       object\n",
              "call_category_2       object\n",
              "resolution            object\n",
              "sentiment_category    object\n",
              "dtype: object"
            ]
          },
          "metadata": {},
          "execution_count": 5
        }
      ]
    },
    {
      "cell_type": "code",
      "source": [
        "columns_to_drop = [\"call_center\", \"issue_level1\", \"issue_level2\", \"call_category_1\", \"call_category_2\", \"resolution\", \"verbatims\"]\n",
        "df = df.drop(columns=columns_to_drop)"
      ],
      "metadata": {
        "id": "22W1QNyYyVYF"
      },
      "execution_count": null,
      "outputs": []
    },
    {
      "cell_type": "code",
      "source": [
        "o = df.select_dtypes(include=['object'])\n",
        "o.dtypes"
      ],
      "metadata": {
        "colab": {
          "base_uri": "https://localhost:8080/"
        },
        "id": "KlgjyS8Mytkp",
        "outputId": "ee4586da-9cf8-44fd-aea3-44ec2b4810df"
      },
      "execution_count": null,
      "outputs": [
        {
          "output_type": "execute_result",
          "data": {
            "text/plain": [
              "sentiment_category    object\n",
              "dtype: object"
            ]
          },
          "metadata": {},
          "execution_count": 7
        }
      ]
    },
    {
      "cell_type": "code",
      "source": [
        "df[\"sentiment_category\"].unique()"
      ],
      "metadata": {
        "colab": {
          "base_uri": "https://localhost:8080/"
        },
        "id": "q3y9pzvyy04A",
        "outputId": "43589aa8-12d9-4331-e630-c88b85073cc5"
      },
      "execution_count": null,
      "outputs": [
        {
          "output_type": "execute_result",
          "data": {
            "text/plain": [
              "array(['Neutral', 'Positive', 'Negative', nan], dtype=object)"
            ]
          },
          "metadata": {},
          "execution_count": 8
        }
      ]
    },
    {
      "cell_type": "code",
      "source": [
        "from sklearn import preprocessing\n",
        "label_encoder = preprocessing.LabelEncoder()\n",
        "df['sentiment_category']= label_encoder.fit_transform(df['sentiment_category'])\n",
        "df['sentiment_category'].unique()"
      ],
      "metadata": {
        "colab": {
          "base_uri": "https://localhost:8080/"
        },
        "id": "-kiYIfEOy6pA",
        "outputId": "eabaa88c-7e1a-4765-da9c-425f896ccaf2"
      },
      "execution_count": null,
      "outputs": [
        {
          "output_type": "execute_result",
          "data": {
            "text/plain": [
              "array([1, 2, 0, 3])"
            ]
          },
          "metadata": {},
          "execution_count": 9
        }
      ]
    },
    {
      "cell_type": "code",
      "source": [
        "corr_matrix = df.corr()\n",
        "\n",
        "correlated_columns = {}\n",
        "\n",
        "\n",
        "for col in corr_matrix.columns:\n",
        "    correlated_columns[col] = []\n",
        "\n",
        "    for other_col in corr_matrix.columns:\n",
        "        if col != other_col:\n",
        "            if corr_matrix.loc[col, other_col] >= 0.5 or corr_matrix.loc[col, other_col] <= -0.5:\n",
        "                correlated_columns[col].append(other_col)\n",
        "\n",
        "for k, v in correlated_columns.items():\n",
        "    if v:  # Check if the list of correlated columns is not empty\n",
        "        print(f\"Column: {k}\")\n",
        "        print(\"Correlated Columns:\", v)"
      ],
      "metadata": {
        "colab": {
          "base_uri": "https://localhost:8080/"
        },
        "id": "9iM2kk3vzABt",
        "outputId": "481792c0-c754-4224-fa8b-ffc428c74635"
      },
      "execution_count": null,
      "outputs": [
        {
          "output_type": "stream",
          "name": "stdout",
          "text": [
            "Column: upsell_xsell\n",
            "Correlated Columns: ['calls_care_acct', 'price_mention']\n",
            "Column: lifetime_value\n",
            "Correlated Columns: ['rfm_score', 'calls_total', 'calls_in_pk', 'calls_in_offpk', 'calls_out_offpk', 'calls_out_pk', 'voice_tot_bill_mou_curr', 'bill_data_usg_m03', 'bill_data_usg_m06', 'mb_data_usg_m01', 'mb_data_usg_m02', 'mb_data_usg_m03', 'seconds_of_data_norm']\n",
            "Column: avg_arpu_3m\n",
            "Correlated Columns: ['tot_voice_chrgs_curr']\n",
            "Column: nbr_contracts_ltd\n",
            "Correlated Columns: ['data_device_age']\n",
            "Column: rfm_score\n",
            "Correlated Columns: ['lifetime_value', 'calls_total', 'calls_in_pk', 'calls_in_offpk', 'calls_out_offpk', 'calls_out_pk', 'voice_tot_bill_mou_curr', 'bill_data_usg_m03', 'bill_data_usg_m06', 'mb_data_usg_m01', 'mb_data_usg_m02', 'mb_data_usg_m03', 'seconds_of_data_norm', 'seconds_of_data_log']\n",
            "Column: zipcode_primary\n",
            "Correlated Columns: ['forecast_region']\n",
            "Column: cs_ttl_pop\n",
            "Correlated Columns: ['cs_ttl_urban', 'cs_ttl_rural', 'cs_ttl_hhlds']\n",
            "Column: cs_hispanic\n",
            "Correlated Columns: ['cs_caucasian']\n",
            "Column: cs_caucasian\n",
            "Correlated Columns: ['cs_hispanic', 'cs_afr_amer', 'cs_ttl_mdage']\n",
            "Column: cs_afr_amer\n",
            "Correlated Columns: ['cs_caucasian']\n",
            "Column: cs_ttl_urban\n",
            "Correlated Columns: ['cs_ttl_pop', 'cs_ttl_rural', 'cs_ttl_hhlds']\n",
            "Column: cs_ttl_rural\n",
            "Correlated Columns: ['cs_ttl_pop', 'cs_ttl_urban', 'cs_ttl_hhlds']\n",
            "Column: cs_ttl_male\n",
            "Correlated Columns: ['cs_ttl_female']\n",
            "Column: cs_ttl_female\n",
            "Correlated Columns: ['cs_ttl_male']\n",
            "Column: cs_ttl_hhlds\n",
            "Correlated Columns: ['cs_ttl_pop', 'cs_ttl_urban', 'cs_ttl_rural']\n",
            "Column: cs_ttl_mdage\n",
            "Correlated Columns: ['cs_caucasian']\n",
            "Column: forecast_region\n",
            "Correlated Columns: ['zipcode_primary']\n",
            "Column: ever_days_over_plan\n",
            "Correlated Columns: ['ever_times_over_plan', 'avg_days_susp']\n",
            "Column: ever_times_over_plan\n",
            "Correlated Columns: ['ever_days_over_plan']\n",
            "Column: handset\n",
            "Correlated Columns: ['mfg_apple', 'mfg_samsung']\n",
            "Column: rp_pooled_ind\n",
            "Correlated Columns: ['tot_voice_chrgs_curr']\n",
            "Column: data_device_age\n",
            "Correlated Columns: ['nbr_contracts_ltd']\n",
            "Column: mfg_apple\n",
            "Correlated Columns: ['handset']\n",
            "Column: mfg_samsung\n",
            "Correlated Columns: ['handset']\n",
            "Column: avg_days_susp\n",
            "Correlated Columns: ['ever_days_over_plan']\n",
            "Column: calls_total\n",
            "Correlated Columns: ['lifetime_value', 'rfm_score', 'calls_in_pk', 'calls_in_offpk', 'calls_out_offpk', 'calls_out_pk', 'voice_tot_bill_mou_curr', 'bill_data_usg_m03', 'bill_data_usg_m06', 'mb_data_usg_m01', 'mb_data_usg_m02', 'mb_data_usg_m03', 'seconds_of_data_norm']\n",
            "Column: calls_in_pk\n",
            "Correlated Columns: ['lifetime_value', 'rfm_score', 'calls_total', 'calls_in_offpk', 'calls_out_offpk', 'calls_out_pk', 'voice_tot_bill_mou_curr', 'mb_data_usg_m02', 'seconds_of_data_norm']\n",
            "Column: calls_in_offpk\n",
            "Correlated Columns: ['lifetime_value', 'rfm_score', 'calls_total', 'calls_in_pk', 'calls_out_offpk', 'calls_out_pk', 'voice_tot_bill_mou_curr', 'bill_data_usg_m03', 'bill_data_usg_m06', 'mb_data_usg_m01', 'mb_data_usg_m02', 'mb_data_usg_m03', 'seconds_of_data_norm']\n",
            "Column: calls_out_offpk\n",
            "Correlated Columns: ['lifetime_value', 'rfm_score', 'calls_total', 'calls_in_pk', 'calls_in_offpk', 'calls_out_pk', 'voice_tot_bill_mou_curr', 'bill_data_usg_m03', 'bill_data_usg_m06', 'mb_data_usg_m01', 'mb_data_usg_m02', 'mb_data_usg_m03', 'seconds_of_data_norm']\n",
            "Column: calls_out_pk\n",
            "Correlated Columns: ['lifetime_value', 'rfm_score', 'calls_total', 'calls_in_pk', 'calls_in_offpk', 'calls_out_offpk', 'voice_tot_bill_mou_curr', 'bill_data_usg_m03', 'bill_data_usg_m06', 'mb_data_usg_m01', 'mb_data_usg_m02', 'mb_data_usg_m03', 'seconds_of_data_norm']\n",
            "Column: mou_total_pct_MOM\n",
            "Correlated Columns: ['mou_roam_pct_MOM', 'mou_roam_6m_normal']\n",
            "Column: mou_onnet_pct_MOM\n",
            "Correlated Columns: ['mou_onnet_6m_normal']\n",
            "Column: mou_roam_pct_MOM\n",
            "Correlated Columns: ['mou_total_pct_MOM', 'mou_roam_6m_normal']\n",
            "Column: mou_onnet_6m_normal\n",
            "Correlated Columns: ['mou_onnet_pct_MOM']\n",
            "Column: mou_roam_6m_normal\n",
            "Correlated Columns: ['mou_total_pct_MOM', 'mou_roam_pct_MOM']\n",
            "Column: voice_tot_bill_mou_curr\n",
            "Correlated Columns: ['lifetime_value', 'rfm_score', 'calls_total', 'calls_in_pk', 'calls_in_offpk', 'calls_out_offpk', 'calls_out_pk', 'bill_data_usg_m03', 'bill_data_usg_m06', 'mb_data_usg_m01', 'mb_data_usg_m02', 'mb_data_usg_m03', 'seconds_of_data_norm']\n",
            "Column: tot_voice_chrgs_curr\n",
            "Correlated Columns: ['avg_arpu_3m', 'rp_pooled_ind']\n",
            "Column: bill_data_usg_m03\n",
            "Correlated Columns: ['lifetime_value', 'rfm_score', 'calls_total', 'calls_in_offpk', 'calls_out_offpk', 'calls_out_pk', 'voice_tot_bill_mou_curr', 'bill_data_usg_m06', 'mb_data_usg_m01', 'mb_data_usg_m02', 'mb_data_usg_m03', 'seconds_of_data_norm']\n",
            "Column: bill_data_usg_m06\n",
            "Correlated Columns: ['lifetime_value', 'rfm_score', 'calls_total', 'calls_in_offpk', 'calls_out_offpk', 'calls_out_pk', 'voice_tot_bill_mou_curr', 'bill_data_usg_m03', 'mb_data_usg_m01', 'mb_data_usg_m02', 'mb_data_usg_m03', 'tot_mb_data_curr', 'seconds_of_data_norm']\n",
            "Column: mb_data_usg_m01\n",
            "Correlated Columns: ['lifetime_value', 'rfm_score', 'calls_total', 'calls_in_offpk', 'calls_out_offpk', 'calls_out_pk', 'voice_tot_bill_mou_curr', 'bill_data_usg_m03', 'bill_data_usg_m06', 'mb_data_usg_m02', 'mb_data_usg_m03', 'seconds_of_data_norm']\n",
            "Column: mb_data_usg_m02\n",
            "Correlated Columns: ['lifetime_value', 'rfm_score', 'calls_total', 'calls_in_pk', 'calls_in_offpk', 'calls_out_offpk', 'calls_out_pk', 'voice_tot_bill_mou_curr', 'bill_data_usg_m03', 'bill_data_usg_m06', 'mb_data_usg_m01', 'mb_data_usg_m03', 'seconds_of_data_norm']\n",
            "Column: mb_data_usg_m03\n",
            "Correlated Columns: ['lifetime_value', 'rfm_score', 'calls_total', 'calls_in_offpk', 'calls_out_offpk', 'calls_out_pk', 'voice_tot_bill_mou_curr', 'bill_data_usg_m03', 'bill_data_usg_m06', 'mb_data_usg_m01', 'mb_data_usg_m02', 'seconds_of_data_norm']\n",
            "Column: mb_data_usg_roamm01\n",
            "Correlated Columns: ['mb_data_usg_roamm03', 'tot_mb_data_curr', 'tot_mb_data_roam_curr']\n",
            "Column: mb_data_usg_roamm03\n",
            "Correlated Columns: ['mb_data_usg_roamm01', 'tot_mb_data_roam_curr']\n",
            "Column: data_usage_amt\n",
            "Correlated Columns: ['tweedie_adjusted', 'bill_data_usg_tot']\n",
            "Column: tweedie_adjusted\n",
            "Correlated Columns: ['data_usage_amt']\n",
            "Column: tot_mb_data_curr\n",
            "Correlated Columns: ['bill_data_usg_m06', 'mb_data_usg_roamm01', 'tot_mb_data_roam_curr']\n",
            "Column: tot_mb_data_roam_curr\n",
            "Correlated Columns: ['mb_data_usg_roamm01', 'mb_data_usg_roamm03', 'tot_mb_data_curr']\n",
            "Column: bill_data_usg_tot\n",
            "Correlated Columns: ['data_usage_amt']\n",
            "Column: tot_overage_chgs\n",
            "Correlated Columns: ['avg_overage_chrgs_3m']\n",
            "Column: data_prem_chrgs_curr\n",
            "Correlated Columns: ['avg_data_chrgs_3m', 'avg_data_prem_chrgs_3m']\n",
            "Column: avg_data_chrgs_3m\n",
            "Correlated Columns: ['data_prem_chrgs_curr', 'avg_data_prem_chrgs_3m']\n",
            "Column: avg_data_prem_chrgs_3m\n",
            "Correlated Columns: ['data_prem_chrgs_curr', 'avg_data_chrgs_3m']\n",
            "Column: avg_overage_chrgs_3m\n",
            "Correlated Columns: ['tot_overage_chgs']\n",
            "Column: calls_TS_acct\n",
            "Correlated Columns: ['open_tsupcomplnts']\n",
            "Column: open_tsupcomplnts\n",
            "Correlated Columns: ['calls_TS_acct']\n",
            "Column: num_tsupcomplnts\n",
            "Correlated Columns: ['resolved_complnts']\n",
            "Column: resolved_complnts\n",
            "Correlated Columns: ['num_tsupcomplnts']\n",
            "Column: calls_care_acct\n",
            "Correlated Columns: ['upsell_xsell', 'price_mention']\n",
            "Column: calls_care_3mavg_acct\n",
            "Correlated Columns: ['calls_care_6mavg_acct', 'res_calls_3mavg_acct', 'res_calls_6mavg_acct']\n",
            "Column: calls_care_6mavg_acct\n",
            "Correlated Columns: ['calls_care_3mavg_acct', 'res_calls_3mavg_acct', 'res_calls_6mavg_acct']\n",
            "Column: res_calls_3mavg_acct\n",
            "Correlated Columns: ['calls_care_3mavg_acct', 'calls_care_6mavg_acct', 'res_calls_6mavg_acct']\n",
            "Column: res_calls_6mavg_acct\n",
            "Correlated Columns: ['calls_care_3mavg_acct', 'calls_care_6mavg_acct', 'res_calls_3mavg_acct']\n",
            "Column: price_mention\n",
            "Correlated Columns: ['upsell_xsell', 'calls_care_acct']\n",
            "Column: times_susp\n",
            "Correlated Columns: ['curr_days_susp']\n",
            "Column: curr_days_susp\n",
            "Correlated Columns: ['times_susp']\n",
            "Column: MB_Data_Usg_M04\n",
            "Correlated Columns: ['MB_Data_Usg_M05', 'MB_Data_Usg_M06']\n",
            "Column: MB_Data_Usg_M05\n",
            "Correlated Columns: ['MB_Data_Usg_M04', 'MB_Data_Usg_M06']\n",
            "Column: MB_Data_Usg_M06\n",
            "Correlated Columns: ['MB_Data_Usg_M04', 'MB_Data_Usg_M05']\n",
            "Column: MB_Data_Usg_M08\n",
            "Correlated Columns: ['MB_Data_Usg_M09']\n",
            "Column: MB_Data_Usg_M09\n",
            "Correlated Columns: ['MB_Data_Usg_M08']\n",
            "Column: seconds_of_data_norm\n",
            "Correlated Columns: ['lifetime_value', 'rfm_score', 'calls_total', 'calls_in_pk', 'calls_in_offpk', 'calls_out_offpk', 'calls_out_pk', 'voice_tot_bill_mou_curr', 'bill_data_usg_m03', 'bill_data_usg_m06', 'mb_data_usg_m01', 'mb_data_usg_m02', 'mb_data_usg_m03', 'seconds_of_data_log']\n",
            "Column: seconds_of_data_log\n",
            "Correlated Columns: ['rfm_score', 'seconds_of_data_norm']\n",
            "Column: sentiment_category\n",
            "Correlated Columns: ['sentiment_score']\n",
            "Column: sentiment_score\n",
            "Correlated Columns: ['sentiment_category']\n"
          ]
        }
      ]
    },
    {
      "cell_type": "code",
      "source": [
        "df['upsell_xsell'].unique()"
      ],
      "metadata": {
        "colab": {
          "base_uri": "https://localhost:8080/"
        },
        "id": "csDPZYHYzPRO",
        "outputId": "92a2c229-24fa-41ad-ecd0-4973acd11e60"
      },
      "execution_count": null,
      "outputs": [
        {
          "output_type": "execute_result",
          "data": {
            "text/plain": [
              "array([0, 1])"
            ]
          },
          "metadata": {},
          "execution_count": 11
        }
      ]
    },
    {
      "cell_type": "code",
      "source": [
        "\n",
        "df['calls_care_acct'].unique()"
      ],
      "metadata": {
        "colab": {
          "base_uri": "https://localhost:8080/"
        },
        "id": "O3ph4WNM00eH",
        "outputId": "b916bf7d-b33c-4e6c-fac2-108680fa201d"
      },
      "execution_count": null,
      "outputs": [
        {
          "output_type": "execute_result",
          "data": {
            "text/plain": [
              "array([ 1.,  0.,  2.,  3.,  4., nan])"
            ]
          },
          "metadata": {},
          "execution_count": 12
        }
      ]
    },
    {
      "cell_type": "code",
      "source": [
        "null_values = df.isnull().any()\n",
        "\n",
        "columns_with_null = null_values[null_values].index\n",
        "print(\"Columns with null values:\", columns_with_null)"
      ],
      "metadata": {
        "colab": {
          "base_uri": "https://localhost:8080/"
        },
        "id": "eoz8eudH1fap",
        "outputId": "090738f4-e81a-4af6-810d-e4af92a58240"
      },
      "execution_count": null,
      "outputs": [
        {
          "output_type": "stream",
          "name": "stdout",
          "text": [
            "Columns with null values: Index(['avg_arpu_3m', 'cs_med_home_value', 'cs_pct_home_owner', 'cs_ttl_pop',\n",
            "       'cs_hispanic', 'cs_caucasian', 'cs_afr_amer', 'cs_other',\n",
            "       'cs_ttl_urban', 'cs_ttl_rural', 'cs_ttl_male', 'cs_ttl_female',\n",
            "       'cs_ttl_hhlds', 'cs_ttl_mdage', 'data_device_age', 'mou_roam_6m_normal',\n",
            "       'voice_tot_bill_mou_curr', 'tot_voice_chrgs_curr', 'tot_drpd_pr1',\n",
            "       'bill_data_usg_m03', 'bill_data_usg_m06', 'bill_data_usg_m09',\n",
            "       'mb_data_usg_m01', 'mb_data_usg_m02', 'mb_data_usg_m03',\n",
            "       'mb_data_ndist_mo6m', 'mb_data_usg_roamm01', 'mb_data_usg_roamm02',\n",
            "       'mb_data_usg_roamm03', 'data_usage_amt', 'tweedie_adjusted',\n",
            "       'tot_mb_data_curr', 'tot_mb_data_roam_curr', 'bill_data_usg_tot',\n",
            "       'tot_overage_chgs', 'data_prem_chrgs_curr', 'nbr_data_cdrs',\n",
            "       'avg_data_chrgs_3m', 'avg_data_prem_chrgs_3m', 'avg_overage_chrgs_3m',\n",
            "       'nbr_contacts', 'calls_TS_acct', 'open_tsupcomplnts',\n",
            "       'num_tsupcomplnts', 'unsolv_tsupcomplnt', 'wrk_orders',\n",
            "       'days_openwrkorders', 'resolved_complnts', 'calls_care_acct',\n",
            "       'calls_care_3mavg_acct', 'calls_care_6mavg_acct',\n",
            "       'res_calls_3mavg_acct', 'res_calls_6mavg_acct', 'last_rep_sat_score',\n",
            "       'network_mention', 'service_mention', 'price_mention', 'times_susp',\n",
            "       'curr_days_susp', 'pymts_late_ltd', 'calls_care_ltd', 'MB_Data_Usg_M04',\n",
            "       'MB_Data_Usg_M05', 'MB_Data_Usg_M06', 'MB_Data_Usg_M07',\n",
            "       'MB_Data_Usg_M08', 'MB_Data_Usg_M09', 'seconds_of_data_norm',\n",
            "       'seconds_of_data_log', 'verbatims1', 'sentiment_score'],\n",
            "      dtype='object')\n"
          ]
        }
      ]
    },
    {
      "cell_type": "code",
      "source": [
        "import matplotlib.pyplot as plt\n",
        "from statsmodels.graphics.mosaicplot import mosaic\n",
        "\n",
        "pd.crosstab(df['upsell_xsell'], df['calls_care_acct']).plot(kind='bar', stacked=True)\n",
        "plt.show()"
      ],
      "metadata": {
        "colab": {
          "base_uri": "https://localhost:8080/",
          "height": 444
        },
        "id": "MKQL0HU40Pb-",
        "outputId": "15e65455-4d9e-439f-ec61-edcba71468fe"
      },
      "execution_count": null,
      "outputs": [
        {
          "output_type": "display_data",
          "data": {
            "text/plain": [
              "<Figure size 640x480 with 1 Axes>"
            ],
            "image/png": "[encoded data removed]"
          },
          "metadata": {}
        }
      ]
    },
    {
      "cell_type": "code",
      "source": [
        "df['price_mention'].unique()"
      ],
      "metadata": {
        "colab": {
          "base_uri": "https://localhost:8080/"
        },
        "id": "I6MaFz3v1wQc",
        "outputId": "3a9e0f80-4770-4be4-e226-704c4bab3a14"
      },
      "execution_count": null,
      "outputs": [
        {
          "output_type": "execute_result",
          "data": {
            "text/plain": [
              "array([ 0.,  1.,  2., nan])"
            ]
          },
          "metadata": {},
          "execution_count": 15
        }
      ]
    },
    {
      "cell_type": "code",
      "source": [
        "pd.crosstab(df['price_mention'], df['upsell_xsell']).plot(kind='bar', stacked=True)\n",
        "plt.show()\n"
      ],
      "metadata": {
        "colab": {
          "base_uri": "https://localhost:8080/",
          "height": 458
        },
        "id": "fWVsG7rB2j0I",
        "outputId": "3636801c-185f-4b5e-e10f-549654c711de"
      },
      "execution_count": null,
      "outputs": [
        {
          "output_type": "display_data",
          "data": {
            "text/plain": [
              "<Figure size 640x480 with 1 Axes>"
            ],
            "image/png": "[encoded data removed]"
          },
          "metadata": {}
        }
      ]
    },
    {
      "cell_type": "markdown",
      "source": [
        "lifetime_value"
      ],
      "metadata": {
        "id": "IAaoio9x2_X4"
      }
    },
    {
      "cell_type": "code",
      "source": [
        "df['rfm_score'].unique()"
      ],
      "metadata": {
        "colab": {
          "base_uri": "https://localhost:8080/"
        },
        "id": "uYBygmi-2rp3",
        "outputId": "33e8e2e4-1b81-443e-e224-f6c55dbdf52c"
      },
      "execution_count": null,
      "outputs": [
        {
          "output_type": "execute_result",
          "data": {
            "text/plain": [
              "array([223, 333, 312, 112, 332, 213, 323, 322, 233, 123, 222, 232, 313,\n",
              "       122, 121, 111, 212, 231, 133, 131, 321, 331, 113, 221, 311, 132,\n",
              "       211])"
            ]
          },
          "metadata": {},
          "execution_count": 17
        }
      ]
    },
    {
      "cell_type": "code",
      "source": [
        "plt.scatter(df['lifetime_value'], df['rfm_score'])\n",
        "plt.xlabel('lifetime_value')\n",
        "plt.ylabel('rfm_score')\n",
        "plt.title('Scatter Plot between lifetime_value and rfm_score')\n",
        "plt.show()"
      ],
      "metadata": {
        "colab": {
          "base_uri": "https://localhost:8080/",
          "height": 472
        },
        "id": "MfE0aXmX3EoQ",
        "outputId": "18faeeb4-f17c-4b2c-a3fa-a6827ae4dd14"
      },
      "execution_count": null,
      "outputs": [
        {
          "output_type": "display_data",
          "data": {
            "text/plain": [
              "<Figure size 640x480 with 1 Axes>"
            ],
            "image/png": "[encoded data removed]"
          },
          "metadata": {}
        }
      ]
    },
    {
      "cell_type": "markdown",
      "source": [
        "More the rfm-score more tthe lifetime-value"
      ],
      "metadata": {
        "id": "edq0XQlk3xew"
      }
    },
    {
      "cell_type": "markdown",
      "source": [
        "cs_ttl_pop-population\n",
        "cs_ttl_hhlds-housholds"
      ],
      "metadata": {
        "id": "q6sGnBCP5t1B"
      }
    },
    {
      "cell_type": "code",
      "source": [
        "df['cs_ttl_pop'].unique()"
      ],
      "metadata": {
        "colab": {
          "base_uri": "https://localhost:8080/"
        },
        "id": "eDMSOpRB3iPo",
        "outputId": "ede0e163-230b-48ea-bec9-accead2a408d"
      },
      "execution_count": null,
      "outputs": [
        {
          "output_type": "execute_result",
          "data": {
            "text/plain": [
              "array([14252., 31717., 22195., ..., 22869., 33736.,  5034.])"
            ]
          },
          "metadata": {},
          "execution_count": 19
        }
      ]
    },
    {
      "cell_type": "code",
      "source": [
        "df['cs_ttl_hhlds'].unique()"
      ],
      "metadata": {
        "colab": {
          "base_uri": "https://localhost:8080/"
        },
        "id": "IpTuY1zP55vI",
        "outputId": "d643ba8a-d0e3-4cae-8fe8-9643c9ed5298"
      },
      "execution_count": null,
      "outputs": [
        {
          "output_type": "execute_result",
          "data": {
            "text/plain": [
              "array([ 5770., 12166.,  9060., ..., 11737., 11601.,  1599.])"
            ]
          },
          "metadata": {},
          "execution_count": 20
        }
      ]
    },
    {
      "cell_type": "code",
      "source": [
        "plt.scatter(df['cs_ttl_pop'], df['cs_ttl_hhlds'])\n",
        "plt.xlabel('cs_ttl_pop')\n",
        "plt.ylabel('cs_ttl_hhlds')\n",
        "plt.title('Scatter Plot between cs_ttl_pop and cs_ttl_hhlds')\n",
        "plt.show()"
      ],
      "metadata": {
        "colab": {
          "base_uri": "https://localhost:8080/",
          "height": 472
        },
        "id": "wC1mNLb25_Z4",
        "outputId": "19cfab5c-bb0c-4c67-ed55-f6e6e98b8ba3"
      },
      "execution_count": null,
      "outputs": [
        {
          "output_type": "display_data",
          "data": {
            "text/plain": [
              "<Figure size 640x480 with 1 Axes>"
            ],
            "image/png": "[encoded data removed]"
          },
          "metadata": {}
        }
      ]
    },
    {
      "cell_type": "markdown",
      "source": [
        "cs_ttl_urban-\n",
        "cs_ttl_rural"
      ],
      "metadata": {
        "id": "T7ITw82q6VxR"
      }
    },
    {
      "cell_type": "code",
      "source": [
        "df['cs_ttl_urban'].unique()"
      ],
      "metadata": {
        "colab": {
          "base_uri": "https://localhost:8080/"
        },
        "id": "3t9MJ0LD6Kl_",
        "outputId": "10ace0b8-d3d4-46b8-8b3a-d60650bd995a"
      },
      "execution_count": null,
      "outputs": [
        {
          "output_type": "execute_result",
          "data": {
            "text/plain": [
              "array([100.  ,  99.67,  69.96,  85.64,  92.26,  38.82,  99.99,  67.18,\n",
              "        93.47,  78.06,  98.1 ,  87.64,  99.43,  94.24,  76.57,   0.  ,\n",
              "        59.59,  99.84,  80.94,  88.07,  99.88,  73.08,  98.27,  70.99,\n",
              "        93.32,  91.54,  74.89,  53.4 ,  82.5 ,  35.47,  68.88,  70.  ,\n",
              "        33.28,  92.28,  66.19,  64.13,  77.88,  99.94,  76.48,  79.06,\n",
              "        55.34,  99.02,  87.54,  59.05,  64.52,  95.86,  58.65,    nan,\n",
              "        59.34,  98.36,  73.71,  64.9 ,  96.54,  27.75,  75.53,  78.18,\n",
              "        32.62,  85.21,  98.57,  98.4 ,  99.34,  80.15,  93.38,  82.48,\n",
              "        35.1 ,   1.23,  60.78,  75.95,  99.4 ,  55.5 ,  41.84,  71.21,\n",
              "        55.63,  99.91,  58.28,  95.34,  96.36,  63.03,  96.14,  97.73,\n",
              "        53.19,  85.59,  86.53,  60.59,  94.08,  95.52,  98.05,  91.5 ,\n",
              "        63.09,  76.14,  69.41,  94.59,  81.67,  79.28,  99.96,  69.98,\n",
              "        90.19,  86.96,  53.39,  27.81,  99.16,  94.83,  81.52,  38.43,\n",
              "        99.1 ,  86.17,  38.29,  95.07,  44.72,  99.33,  85.57,  72.51,\n",
              "        99.11,  32.75,  94.42,  85.9 ,  85.79,  98.52,  60.18,  79.72,\n",
              "        79.09,  90.16,  74.23,  99.77,  92.4 ,  99.35,  97.39,  84.  ,\n",
              "        92.6 ,  90.02,  44.97,  93.68,  49.71,  24.98,  87.85,  77.38,\n",
              "        64.74,  73.27,  27.64,  94.71,  40.38,  91.34,  85.36,  99.97,\n",
              "        76.27,  47.54,  99.76,  99.55,  99.92,  53.35,  51.25,  63.1 ,\n",
              "        81.98,  99.89,  92.81,  98.35,  25.64,  93.28,  71.78,  31.82,\n",
              "        78.31,  60.31,  89.37,  99.04,  94.55,  95.51,  59.6 ,  79.47,\n",
              "        89.46,  99.01,  99.98,  84.22,  99.68,  38.2 ,  20.03,   6.15,\n",
              "        99.25,  72.12,  95.61,  70.7 ,  91.  ,  87.82,   6.01,  45.56,\n",
              "        89.93,  26.42,  60.82,  32.18,  52.06,  57.28,  38.77,  75.7 ,\n",
              "        98.33,  65.51,  79.2 ,  95.5 ,  70.15,   0.53,  50.81,  92.87,\n",
              "        99.95,  35.8 ,  96.52,  55.85,  99.28,  42.8 ,  97.67,  61.68,\n",
              "        64.64,  87.96,  85.87,  95.21,  39.95,  87.2 ,  51.01,  70.94,\n",
              "        96.12,  63.92,  72.08,  33.33,  85.82,  67.23,  74.81,  84.95,\n",
              "        53.98,  84.89,  37.81,  96.11,  89.66,  43.09,  30.55,  94.96,\n",
              "        99.59,  83.4 ,  84.36,  85.19,  63.57,  92.98,  83.99,  98.69,\n",
              "        36.91,  99.63,  94.73,   2.42,  51.37,  56.56,  99.45,  97.87,\n",
              "        73.66,  99.87,  67.79,  87.89,  70.13,  78.71,  92.75,  76.92,\n",
              "        86.66,  34.97,  51.62,  92.02,  98.49,  89.91,  97.54,  41.08,\n",
              "        99.51,  99.3 ,  73.05,  86.37,  17.46,  87.22,  67.85,  85.05,\n",
              "        78.34,  21.21,  78.99,  77.16,  86.21,  96.76,  82.1 ,  93.87,\n",
              "        79.34,  66.43,  97.83,  74.33,  99.72,  72.13,  98.54,  97.65,\n",
              "        98.68,  98.04,  48.19,  68.07,  68.13,  57.12,  99.5 ,  98.47,\n",
              "        89.62,  66.68,  92.82,  65.54,  95.67,  62.36,  13.32,  67.88,\n",
              "        81.9 ,  97.07,  92.24,  92.76,  95.87,  82.67,  55.29,  90.21,\n",
              "        58.67,  96.45,  72.83,  87.59,  87.31,  91.02,  96.87,  67.49,\n",
              "        98.21,  85.35,  94.87,  75.12,  85.83,  56.43,  26.66,  83.56,\n",
              "        45.11,  99.85,  93.41,  91.28,  92.22,  42.43,  74.86,  84.37,\n",
              "        96.74,  86.14,  56.44,  75.45,  75.47,  98.29,  42.15,  62.26,\n",
              "        97.06,  99.56,  51.02,  39.62,  96.29,  93.42,  88.01,  97.21,\n",
              "        83.03,  98.67,  99.18,  94.35,  17.32,  94.34,  63.45,  92.57,\n",
              "        85.39,  96.98,  88.54,  96.58,  81.24,  32.76,  79.97,  84.48,\n",
              "        86.48,   0.16,  60.9 ,  86.29,  86.43,  70.14,  75.08,  88.64,\n",
              "        60.98,  90.41,  83.91,  99.74,  56.4 ,  74.04,  66.73,  72.48,\n",
              "        70.16,  81.91,  40.44,   7.94,  72.78,  50.15,  95.29,  53.38,\n",
              "        96.56,  80.14,  79.99,  63.12,  96.89,  98.94,  70.59,  92.38,\n",
              "        85.3 ,  85.1 ,  77.06,  88.39,  43.6 ,  18.24,  55.1 ,  89.42,\n",
              "        93.85,  69.86,  24.96,  90.48,  96.46,  74.42,  51.89,  84.11,\n",
              "        77.72,  39.78,  64.12,  42.91,  92.59,  79.52,  94.99,  73.9 ,\n",
              "        84.58,  72.09,  99.83,  97.78,  92.29,  69.54,  69.93,  76.1 ,\n",
              "        95.75,  80.8 ,  83.51,  89.27,  89.5 ,  75.34,  52.13,  58.39,\n",
              "        51.26,  36.01,  96.02,  78.84,  76.3 ,  98.02,  66.57,  96.99,\n",
              "        93.27,  86.03,  53.17,  54.67,  93.52,  97.76,  54.64,  91.14,\n",
              "        81.42,  88.18,  93.48,  80.51,   4.42,  99.82,  93.83,  91.9 ,\n",
              "        81.61,  99.29,  76.16,  79.84,  62.59,  52.33,  92.11,  89.41,\n",
              "        93.51,  98.96,  76.63,  61.65,  91.63,  69.68,  98.56,  57.81,\n",
              "        97.62,  95.4 ,  72.1 ,  99.49,  79.15,  96.32,  58.24,  51.91,\n",
              "        82.38,  74.21,  99.81,  86.73,  86.99,  97.34,  87.93,  88.84,\n",
              "        82.13,  44.13,  78.64,  41.14,  81.26,  77.39,  14.35,  29.45,\n",
              "        97.79,  84.05,  72.46,  93.19,  87.6 ,  94.3 ,  67.94,  44.04,\n",
              "        15.47,  97.47,  14.49,  64.97,  97.14,  79.1 ,  77.51,  96.18,\n",
              "        42.24,  67.83,  72.17,  80.46,  87.55,  81.77,  64.02,  72.18,\n",
              "        78.42,  65.32,  61.22,  86.4 ,  67.01,  93.4 ,  99.22,  87.34,\n",
              "        98.99,  84.68,  97.77,   0.32,  98.24,  67.7 ,  83.41,  98.81,\n",
              "        59.06,  92.42,  79.98,  98.39,  88.02,  92.65,  69.99,  51.1 ,\n",
              "        91.97,  88.37,  82.62,  91.72,  72.7 ,  99.7 ,  47.33,  33.66,\n",
              "        60.96,  94.54,  90.55,  78.56,  43.49,  51.74,  95.74,  98.97,\n",
              "        59.2 ,  87.98,   1.51,  98.76,  98.25,  55.32,  20.34,  42.76,\n",
              "        95.31,  84.32,  69.95,  33.87,  65.85,  37.02,  84.54,  85.16,\n",
              "        97.55,  91.71,  51.51,  56.2 ,  71.52])"
            ]
          },
          "metadata": {},
          "execution_count": 22
        }
      ]
    },
    {
      "cell_type": "code",
      "source": [
        "df['cs_ttl_urban'].isnull().any()"
      ],
      "metadata": {
        "colab": {
          "base_uri": "https://localhost:8080/"
        },
        "id": "ZdMYodRm7c15",
        "outputId": "ab4d1b98-4dca-48bf-9084-12e2d76b750e"
      },
      "execution_count": null,
      "outputs": [
        {
          "output_type": "execute_result",
          "data": {
            "text/plain": [
              "True"
            ]
          },
          "metadata": {},
          "execution_count": 23
        }
      ]
    },
    {
      "cell_type": "code",
      "source": [
        "mean_cs_ttl_urban = df['cs_ttl_urban'].mean()\n",
        "\n",
        "df['cs_ttl_urban'] = df['cs_ttl_urban'].fillna(mean_cs_ttl_urban)\n",
        "df['cs_ttl_urban'].isnull().any()"
      ],
      "metadata": {
        "colab": {
          "base_uri": "https://localhost:8080/"
        },
        "id": "jGaHypjy7qcA",
        "outputId": "c15d523f-adbd-40ac-c413-b16bae334353"
      },
      "execution_count": null,
      "outputs": [
        {
          "output_type": "execute_result",
          "data": {
            "text/plain": [
              "False"
            ]
          },
          "metadata": {},
          "execution_count": 24
        }
      ]
    },
    {
      "cell_type": "code",
      "source": [
        "df['cs_ttl_rural'].unique()"
      ],
      "metadata": {
        "colab": {
          "base_uri": "https://localhost:8080/"
        },
        "id": "O4JdBanW772g",
        "outputId": "c10a39c5-0e5c-47ef-8e64-5d6d7618ea1a"
      },
      "execution_count": null,
      "outputs": [
        {
          "output_type": "execute_result",
          "data": {
            "text/plain": [
              "array([0.000e+00, 3.300e-01, 3.004e+01, 1.436e+01, 7.740e+00, 6.118e+01,\n",
              "       1.000e-02, 3.282e+01, 6.530e+00, 2.194e+01, 1.900e+00, 1.236e+01,\n",
              "       5.700e-01, 5.760e+00, 2.343e+01, 1.000e+02, 4.041e+01, 1.600e-01,\n",
              "       1.906e+01, 1.193e+01, 1.200e-01, 2.692e+01, 1.730e+00, 2.901e+01,\n",
              "       6.680e+00, 8.460e+00, 2.511e+01, 4.660e+01, 1.750e+01, 6.453e+01,\n",
              "       3.112e+01, 3.000e+01, 6.672e+01, 7.720e+00, 3.381e+01, 3.587e+01,\n",
              "       2.212e+01, 6.000e-02, 2.352e+01, 2.094e+01, 4.466e+01, 9.800e-01,\n",
              "       1.246e+01, 4.095e+01, 3.548e+01, 4.140e+00, 4.135e+01,       nan,\n",
              "       4.066e+01, 1.640e+00, 2.629e+01, 3.510e+01, 3.460e+00, 7.225e+01,\n",
              "       2.447e+01, 2.182e+01, 6.738e+01, 1.479e+01, 1.430e+00, 1.600e+00,\n",
              "       6.600e-01, 1.985e+01, 6.620e+00, 1.752e+01, 6.490e+01, 9.877e+01,\n",
              "       3.922e+01, 2.405e+01, 6.000e-01, 4.450e+01, 5.816e+01, 2.879e+01,\n",
              "       4.437e+01, 9.000e-02, 4.172e+01, 4.660e+00, 3.640e+00, 3.697e+01,\n",
              "       3.860e+00, 2.270e+00, 4.681e+01, 1.441e+01, 1.347e+01, 3.941e+01,\n",
              "       5.920e+00, 4.480e+00, 1.950e+00, 8.500e+00, 3.691e+01, 2.386e+01,\n",
              "       3.059e+01, 5.410e+00, 1.833e+01, 2.072e+01, 4.000e-02, 3.002e+01,\n",
              "       9.810e+00, 1.304e+01, 4.661e+01, 7.219e+01, 8.400e-01, 5.170e+00,\n",
              "       1.848e+01, 6.157e+01, 9.000e-01, 1.383e+01, 6.171e+01, 4.930e+00,\n",
              "       5.528e+01, 6.700e-01, 1.443e+01, 2.749e+01, 8.900e-01, 6.725e+01,\n",
              "       5.580e+00, 1.410e+01, 1.421e+01, 1.480e+00, 3.982e+01, 2.028e+01,\n",
              "       2.091e+01, 9.840e+00, 2.577e+01, 2.300e-01, 7.600e+00, 6.500e-01,\n",
              "       2.610e+00, 1.600e+01, 7.400e+00, 9.980e+00, 5.503e+01, 6.320e+00,\n",
              "       5.029e+01, 7.502e+01, 1.215e+01, 2.262e+01, 3.526e+01, 2.673e+01,\n",
              "       7.236e+01, 5.290e+00, 5.962e+01, 8.660e+00, 1.464e+01, 3.000e-02,\n",
              "       2.373e+01, 5.246e+01, 2.400e-01, 4.500e-01, 8.000e-02, 4.665e+01,\n",
              "       4.875e+01, 3.690e+01, 1.802e+01, 1.100e-01, 7.190e+00, 1.650e+00,\n",
              "       7.436e+01, 6.720e+00, 2.822e+01, 6.818e+01, 2.169e+01, 3.969e+01,\n",
              "       1.063e+01, 9.600e-01, 5.450e+00, 4.490e+00, 4.040e+01, 2.053e+01,\n",
              "       1.054e+01, 9.900e-01, 2.000e-02, 1.578e+01, 3.200e-01, 6.180e+01,\n",
              "       7.997e+01, 9.385e+01, 7.500e-01, 2.788e+01, 4.390e+00, 2.930e+01,\n",
              "       9.000e+00, 1.218e+01, 9.399e+01, 5.444e+01, 1.007e+01, 7.358e+01,\n",
              "       3.918e+01, 6.782e+01, 4.794e+01, 4.272e+01, 6.123e+01, 2.430e+01,\n",
              "       1.670e+00, 3.449e+01, 2.080e+01, 4.500e+00, 2.985e+01, 9.947e+01,\n",
              "       4.919e+01, 7.130e+00, 5.000e-02, 6.420e+01, 3.480e+00, 4.415e+01,\n",
              "       7.200e-01, 5.720e+01, 2.330e+00, 3.832e+01, 3.536e+01, 1.204e+01,\n",
              "       1.413e+01, 4.790e+00, 6.005e+01, 1.280e+01, 4.899e+01, 2.906e+01,\n",
              "       3.880e+00, 3.608e+01, 2.792e+01, 6.667e+01, 1.418e+01, 3.277e+01,\n",
              "       2.519e+01, 1.505e+01, 4.602e+01, 1.511e+01, 6.219e+01, 3.890e+00,\n",
              "       1.034e+01, 5.691e+01, 6.945e+01, 5.040e+00, 4.100e-01, 1.660e+01,\n",
              "       1.564e+01, 1.481e+01, 3.643e+01, 7.020e+00, 1.601e+01, 1.310e+00,\n",
              "       6.309e+01, 3.700e-01, 5.270e+00, 9.758e+01, 4.863e+01, 4.344e+01,\n",
              "       5.500e-01, 2.130e+00, 2.634e+01, 1.300e-01, 3.221e+01, 1.211e+01,\n",
              "       2.987e+01, 2.129e+01, 7.250e+00, 2.308e+01, 1.334e+01, 6.503e+01,\n",
              "       4.838e+01, 7.980e+00, 1.510e+00, 1.009e+01, 2.460e+00, 5.892e+01,\n",
              "       4.900e-01, 7.000e-01, 2.695e+01, 1.363e+01, 8.254e+01, 1.278e+01,\n",
              "       3.215e+01, 1.495e+01, 2.166e+01, 7.879e+01, 2.101e+01, 2.284e+01,\n",
              "       1.379e+01, 3.240e+00, 1.790e+01, 6.130e+00, 2.066e+01, 3.357e+01,\n",
              "       2.170e+00, 2.567e+01, 2.800e-01, 2.787e+01, 1.460e+00, 2.350e+00,\n",
              "       1.320e+00, 1.960e+00, 5.181e+01, 3.193e+01, 3.187e+01, 4.288e+01,\n",
              "       5.000e-01, 1.530e+00, 1.038e+01, 3.332e+01, 7.180e+00, 3.446e+01,\n",
              "       4.330e+00, 3.764e+01, 8.668e+01, 3.212e+01, 1.810e+01, 2.930e+00,\n",
              "       7.760e+00, 7.240e+00, 4.130e+00, 1.733e+01, 4.471e+01, 9.790e+00,\n",
              "       4.133e+01, 3.550e+00, 2.717e+01, 1.241e+01, 1.269e+01, 8.980e+00,\n",
              "       3.130e+00, 3.251e+01, 1.790e+00, 1.465e+01, 5.130e+00, 2.488e+01,\n",
              "       1.417e+01, 4.357e+01, 7.334e+01, 1.644e+01, 5.489e+01, 1.500e-01,\n",
              "       6.590e+00, 8.720e+00, 7.780e+00, 5.757e+01, 2.514e+01, 1.563e+01,\n",
              "       3.260e+00, 1.386e+01, 4.356e+01, 2.455e+01, 2.453e+01, 1.710e+00,\n",
              "       5.785e+01, 3.774e+01, 2.940e+00, 4.400e-01, 4.898e+01, 6.038e+01,\n",
              "       3.710e+00, 6.580e+00, 1.199e+01, 2.790e+00, 1.697e+01, 1.330e+00,\n",
              "       8.200e-01, 5.650e+00, 8.268e+01, 5.660e+00, 3.655e+01, 7.430e+00,\n",
              "       1.461e+01, 3.020e+00, 1.146e+01, 3.420e+00, 1.876e+01, 6.724e+01,\n",
              "       2.003e+01, 1.552e+01, 1.352e+01, 9.984e+01, 3.910e+01, 1.371e+01,\n",
              "       1.357e+01, 2.986e+01, 2.492e+01, 1.136e+01, 3.902e+01, 9.590e+00,\n",
              "       1.609e+01, 2.600e-01, 4.360e+01, 2.596e+01, 3.327e+01, 2.752e+01,\n",
              "       2.984e+01, 1.809e+01, 5.956e+01, 9.206e+01, 2.722e+01, 4.985e+01,\n",
              "       4.710e+00, 4.662e+01, 3.440e+00, 1.986e+01, 2.001e+01, 3.688e+01,\n",
              "       3.110e+00, 1.060e+00, 2.941e+01, 7.620e+00, 1.470e+01, 1.490e+01,\n",
              "       2.294e+01, 1.161e+01, 5.640e+01, 8.176e+01, 4.490e+01, 1.058e+01,\n",
              "       6.150e+00, 3.014e+01, 7.504e+01, 9.520e+00, 3.540e+00, 2.558e+01,\n",
              "       4.811e+01, 1.589e+01, 2.228e+01, 6.022e+01, 3.588e+01, 5.709e+01,\n",
              "       7.410e+00, 2.048e+01, 5.010e+00, 2.610e+01, 1.542e+01, 2.791e+01,\n",
              "       1.700e-01, 2.220e+00, 7.710e+00, 3.046e+01, 3.007e+01, 2.390e+01,\n",
              "       4.250e+00, 1.920e+01, 1.649e+01, 1.073e+01, 1.050e+01, 2.466e+01,\n",
              "       4.787e+01, 4.161e+01, 4.874e+01, 6.399e+01, 3.980e+00, 2.116e+01,\n",
              "       2.370e+01, 1.980e+00, 3.343e+01, 3.010e+00, 6.730e+00, 1.397e+01,\n",
              "       4.683e+01, 4.533e+01, 6.480e+00, 2.240e+00, 4.536e+01, 8.860e+00,\n",
              "       1.858e+01, 1.182e+01, 6.520e+00, 1.949e+01, 9.558e+01, 1.800e-01,\n",
              "       6.170e+00, 8.100e+00, 1.839e+01, 7.100e-01, 2.384e+01, 2.016e+01,\n",
              "       3.741e+01, 4.767e+01, 7.890e+00, 1.059e+01, 6.490e+00, 1.040e+00,\n",
              "       2.337e+01, 3.835e+01, 8.370e+00, 3.032e+01, 1.440e+00, 4.219e+01,\n",
              "       2.380e+00, 4.600e+00, 2.790e+01, 5.100e-01, 2.085e+01, 3.680e+00,\n",
              "       4.176e+01, 4.809e+01, 1.762e+01, 2.579e+01, 1.900e-01, 1.327e+01,\n",
              "       1.301e+01, 2.660e+00, 1.207e+01, 1.116e+01, 1.787e+01, 5.587e+01,\n",
              "       2.136e+01, 5.886e+01, 1.874e+01, 2.261e+01, 8.565e+01, 7.055e+01,\n",
              "       2.210e+00, 1.595e+01, 2.754e+01, 6.810e+00, 1.240e+01, 5.700e+00,\n",
              "       3.206e+01, 5.596e+01, 8.453e+01, 2.530e+00, 8.551e+01, 3.503e+01,\n",
              "       2.860e+00, 2.090e+01, 2.249e+01, 3.820e+00, 5.776e+01, 3.217e+01,\n",
              "       2.783e+01, 1.954e+01, 1.245e+01, 1.823e+01, 3.598e+01, 2.782e+01,\n",
              "       2.158e+01, 3.468e+01, 3.878e+01, 1.360e+01, 3.299e+01, 6.600e+00,\n",
              "       7.800e-01, 1.266e+01, 1.010e+00, 1.532e+01, 2.230e+00, 9.968e+01,\n",
              "       1.760e+00, 3.230e+01, 1.659e+01, 1.190e+00, 4.094e+01, 7.580e+00,\n",
              "       2.002e+01, 1.610e+00, 1.198e+01, 7.350e+00, 3.001e+01, 4.890e+01,\n",
              "       8.030e+00, 1.163e+01, 1.738e+01, 8.280e+00, 2.730e+01, 3.000e-01,\n",
              "       5.267e+01, 6.634e+01, 3.904e+01, 5.460e+00, 9.450e+00, 2.144e+01,\n",
              "       5.651e+01, 4.826e+01, 4.260e+00, 1.030e+00, 4.080e+01, 1.202e+01,\n",
              "       9.849e+01, 1.240e+00, 1.750e+00, 4.468e+01, 7.966e+01, 5.724e+01,\n",
              "       4.690e+00, 1.568e+01, 3.005e+01, 6.613e+01, 3.415e+01, 6.298e+01,\n",
              "       1.546e+01, 1.484e+01, 2.450e+00, 8.290e+00, 4.849e+01, 4.380e+01,\n",
              "       2.848e+01])"
            ]
          },
          "metadata": {},
          "execution_count": 25
        }
      ]
    },
    {
      "cell_type": "code",
      "source": [
        "mean_cs_ttl_rural = df['cs_ttl_rural'].mean()\n",
        "\n",
        "df['cs_ttl_rural'] = df['cs_ttl_rural'].fillna(mean_cs_ttl_rural)\n",
        "df['cs_ttl_rural'].isnull().any()"
      ],
      "metadata": {
        "colab": {
          "base_uri": "https://localhost:8080/"
        },
        "id": "rq0qEs9_8Cag",
        "outputId": "421b3c39-512c-4538-a6a1-41e2e90b2fee"
      },
      "execution_count": null,
      "outputs": [
        {
          "output_type": "execute_result",
          "data": {
            "text/plain": [
              "False"
            ]
          },
          "metadata": {},
          "execution_count": 26
        }
      ]
    },
    {
      "cell_type": "markdown",
      "source": [
        "there is a"
      ],
      "metadata": {
        "id": "YpcTuacM84Y5"
      }
    },
    {
      "cell_type": "code",
      "source": [
        "import numpy as np\n",
        "df['location'] = np.where(df['cs_ttl_urban'] > 50, 0, 1)\n",
        "df['location'] = df['location'].replace({0: 'urban', 1: 'rural'})"
      ],
      "metadata": {
        "id": "p5vpxH6KLUkm"
      },
      "execution_count": null,
      "outputs": []
    },
    {
      "cell_type": "code",
      "source": [
        "# prompt: plot location\n",
        "\n",
        "import matplotlib.pyplot as plt\n",
        "df['location'].value_counts().plot(kind='bar')\n",
        "plt.xlabel('Location')\n",
        "plt.ylabel('Count')\n",
        "plt.title('Bar Plot of Location')\n",
        "plt.show()\n"
      ],
      "metadata": {
        "colab": {
          "base_uri": "https://localhost:8080/",
          "height": 498
        },
        "id": "0vViryJ09I4B",
        "outputId": "35aa3a61-28d5-4503-ad6e-772b5c915ea4"
      },
      "execution_count": null,
      "outputs": [
        {
          "output_type": "display_data",
          "data": {
            "text/plain": [
              "<Figure size 640x480 with 1 Axes>"
            ],
            "image/png": "[encoded data removed]"
          },
          "metadata": {}
        }
      ]
    },
    {
      "cell_type": "markdown",
      "source": [
        "cs_ttl_male-male and cs_ttl_female-femal population\n"
      ],
      "metadata": {
        "id": "YM3zOi_U_VRV"
      }
    },
    {
      "cell_type": "code",
      "source": [
        "df['gender'] = np.where(df['cs_ttl_male'] > 50, 0, 1)\n",
        "df['gender'] = df['gender'].replace({'Male':0,'Female':1})"
      ],
      "metadata": {
        "id": "9bt5FxFeN49I"
      },
      "execution_count": null,
      "outputs": []
    },
    {
      "cell_type": "code",
      "source": [
        "mean_gender = df['gender'].mode()\n",
        "\n",
        "df['gender'] = df['gender'].fillna(mean_gender)\n",
        "df['gender'].isnull().any()"
      ],
      "metadata": {
        "colab": {
          "base_uri": "https://localhost:8080/"
        },
        "id": "ghUJquLEBJ5S",
        "outputId": "0e650953-4c76-4e61-8f07-7f7e998dca9b"
      },
      "execution_count": null,
      "outputs": [
        {
          "output_type": "execute_result",
          "data": {
            "text/plain": [
              "False"
            ]
          },
          "metadata": {},
          "execution_count": 30
        }
      ]
    },
    {
      "cell_type": "code",
      "source": [
        "import matplotlib.pyplot as plt\n",
        "df['gender'].value_counts().plot(kind='bar')\n",
        "plt.xlabel('gender')\n",
        "plt.ylabel('Count')\n",
        "plt.title('Bar Plot of gender')\n",
        "plt.show()"
      ],
      "metadata": {
        "colab": {
          "base_uri": "https://localhost:8080/",
          "height": 467
        },
        "id": "R4WlfWfvOKxA",
        "outputId": "df712ab1-4544-44d1-d285-5a0d02c92e01"
      },
      "execution_count": null,
      "outputs": [
        {
          "output_type": "display_data",
          "data": {
            "text/plain": [
              "<Figure size 640x480 with 1 Axes>"
            ],
            "image/png": "[encoded data removed]"
          },
          "metadata": {}
        }
      ]
    },
    {
      "cell_type": "markdown",
      "source": [
        "handset"
      ],
      "metadata": {
        "id": "7s64WTHnCxfl"
      }
    },
    {
      "cell_type": "code",
      "source": [
        "df['handset'].unique()"
      ],
      "metadata": {
        "colab": {
          "base_uri": "https://localhost:8080/"
        },
        "id": "cKooc7u5CNva",
        "outputId": "91bc88d7-0c5b-457c-eaaf-f8cb12c8a395"
      },
      "execution_count": null,
      "outputs": [
        {
          "output_type": "execute_result",
          "data": {
            "text/plain": [
              "array([1, 0, 2, 3, 5, 4, 6])"
            ]
          },
          "metadata": {},
          "execution_count": 32
        }
      ]
    },
    {
      "cell_type": "code",
      "source": [
        "# prompt: plot for handset\n",
        "\n",
        "import matplotlib.pyplot as plt\n",
        "\n",
        "handsets = df['handset'].value_counts()\n",
        "\n",
        "labels = handsets.index.to_list()\n",
        "values = handsets.to_numpy()\n",
        "\n",
        "plt.bar(labels, values)\n",
        "plt.xlabel(\"Handset\")\n",
        "plt.ylabel(\"Count\")\n",
        "plt.title(\"Distribution of Handsets\")\n",
        "plt.show()\n"
      ],
      "metadata": {
        "colab": {
          "base_uri": "https://localhost:8080/",
          "height": 472
        },
        "id": "xrtyNnxKC3ZL",
        "outputId": "32715c32-5cf6-4fbb-bcd7-550ddfeb217e"
      },
      "execution_count": null,
      "outputs": [
        {
          "output_type": "display_data",
          "data": {
            "text/plain": [
              "<Figure size 640x480 with 1 Axes>"
            ],
            "image/png": "[encoded data removed]"
          },
          "metadata": {}
        }
      ]
    },
    {
      "cell_type": "markdown",
      "source": [
        "calls_total-Current number of calls.\n",
        "calls_in_pk-Calls Incoming Peak\n",
        "calls_in_offpk-Calls Incoming Off-Peak\n",
        "voice_tot_bill_mou_curr-Current minutes of voice billed\n",
        "\n"
      ],
      "metadata": {
        "id": "XK-nwG5-EE12"
      }
    },
    {
      "cell_type": "code",
      "source": [
        "# prompt: scatter plot for calls_in_pk and voice_tot_bill_mou_curr\n",
        "\n",
        "import matplotlib.pyplot as plt\n",
        "df.plot.scatter(x='calls_in_pk', y='voice_tot_bill_mou_curr')\n",
        "plt.xlabel('calls_in_pk')\n",
        "plt.ylabel('voice_tot_bill_mou_curr')\n",
        "plt.title('Scatter Plot between calls_in_pk and voice_tot_bill_mou_curr')\n",
        "plt.show()\n"
      ],
      "metadata": {
        "colab": {
          "base_uri": "https://localhost:8080/",
          "height": 472
        },
        "id": "zcTVUAkADst0",
        "outputId": "89b922ac-6be7-40b3-ed8a-60b705e4e503"
      },
      "execution_count": null,
      "outputs": [
        {
          "output_type": "display_data",
          "data": {
            "text/plain": [
              "<Figure size 640x480 with 1 Axes>"
            ],
            "image/png": "[encoded data removed]"
          },
          "metadata": {}
        }
      ]
    },
    {
      "cell_type": "code",
      "source": [
        "import matplotlib.pyplot as plt\n",
        "df.plot.scatter(x='calls_in_offpk', y='voice_tot_bill_mou_curr')\n",
        "plt.xlabel('calls_in_offpk')\n",
        "plt.ylabel('voice_tot_bill_mou_curr')\n",
        "plt.title('Scatter Plot between calls_in_offpk and voice_tot_bill_mou_curr')\n",
        "plt.show()"
      ],
      "metadata": {
        "colab": {
          "base_uri": "https://localhost:8080/",
          "height": 472
        },
        "id": "cb32wjN-Ky0d",
        "outputId": "152e192e-0a54-47ad-9b1d-0179d7634acd"
      },
      "execution_count": null,
      "outputs": [
        {
          "output_type": "display_data",
          "data": {
            "text/plain": [
              "<Figure size 640x480 with 1 Axes>"
            ],
            "image/png": "[encoded data removed]"
          },
          "metadata": {}
        }
      ]
    },
    {
      "cell_type": "markdown",
      "source": [],
      "metadata": {
        "id": "rsuDPzkEPLVw"
      }
    },
    {
      "cell_type": "code",
      "source": [
        "!pip install factor_analyzer"
      ],
      "metadata": {
        "colab": {
          "base_uri": "https://localhost:8080/"
        },
        "id": "IXYpx99DNTJJ",
        "outputId": "8b2976d0-c8ca-4a9f-d0a7-9d0083861ec8"
      },
      "execution_count": null,
      "outputs": [
        {
          "output_type": "stream",
          "name": "stdout",
          "text": [
            "Collecting factor_analyzer\n",
            "  Downloading factor_analyzer-0.5.1.tar.gz (42 kB)\n",
            "\u001b[?25l     \u001b[90m━━━━━━━━━━━━━━━━━━━━━━━━━━━━━━━━━━━━━━━━\u001b[0m \u001b[32m0.0/42.8 kB\u001b[0m \u001b[31m?\u001b[0m eta \u001b[36m-:--:--\u001b[0m\r\u001b[2K     \u001b[90m━━━━━━━━━━━━━━━━━━━━━━━━━━━━━━━━━━━━━━━━\u001b[0m \u001b[32m42.8/42.8 kB\u001b[0m \u001b[31m1.5 MB/s\u001b[0m eta \u001b[36m0:00:00\u001b[0m\n",
            "\u001b[?25h  Installing build dependencies ... \u001b[?25l\u001b[?25hdone\n",
            "  Getting requirements to build wheel ... \u001b[?25l\u001b[?25hdone\n",
            "  Installing backend dependencies ... \u001b[?25l\u001b[?25hdone\n",
            "  Preparing metadata (pyproject.toml) ... \u001b[?25l\u001b[?25hdone\n",
            "Requirement already satisfied: pandas in /usr/local/lib/python3.10/dist-packages (from factor_analyzer) (1.5.3)\n",
            "Requirement already satisfied: scipy in /usr/local/lib/python3.10/dist-packages (from factor_analyzer) (1.11.4)\n",
            "Requirement already satisfied: numpy in /usr/local/lib/python3.10/dist-packages (from factor_analyzer) (1.25.2)\n",
            "Requirement already satisfied: scikit-learn in /usr/local/lib/python3.10/dist-packages (from factor_analyzer) (1.2.2)\n",
            "Requirement already satisfied: python-dateutil>=2.8.1 in /usr/local/lib/python3.10/dist-packages (from pandas->factor_analyzer) (2.8.2)\n",
            "Requirement already satisfied: pytz>=2020.1 in /usr/local/lib/python3.10/dist-packages (from pandas->factor_analyzer) (2023.4)\n",
            "Requirement already satisfied: joblib>=1.1.1 in /usr/local/lib/python3.10/dist-packages (from scikit-learn->factor_analyzer) (1.3.2)\n",
            "Requirement already satisfied: threadpoolctl>=2.0.0 in /usr/local/lib/python3.10/dist-packages (from scikit-learn->factor_analyzer) (3.2.0)\n",
            "Requirement already satisfied: six>=1.5 in /usr/local/lib/python3.10/dist-packages (from python-dateutil>=2.8.1->pandas->factor_analyzer) (1.16.0)\n",
            "Building wheels for collected packages: factor_analyzer\n",
            "  Building wheel for factor_analyzer (pyproject.toml) ... \u001b[?25l\u001b[?25hdone\n",
            "  Created wheel for factor_analyzer: filename=factor_analyzer-0.5.1-py2.py3-none-any.whl size=42564 sha256=91dc31a2acfc9f5b0ccbb118119cb6288cbdbffc91844556d80792cf336cdca6\n",
            "  Stored in directory: /root/.cache/pip/wheels/24/59/82/6493618e30ed1cb7a013b9e1b0c9e17de80b04dfcef4ba8a4d\n",
            "Successfully built factor_analyzer\n",
            "Installing collected packages: factor_analyzer\n",
            "Successfully installed factor_analyzer-0.5.1\n"
          ]
        }
      ]
    },
    {
      "cell_type": "code",
      "source": [
        "from factor_analyzer import FactorAnalyzer"
      ],
      "metadata": {
        "id": "C4N4RNzYX1DJ"
      },
      "execution_count": null,
      "outputs": []
    },
    {
      "cell_type": "code",
      "source": [
        "df['location'] = df['location'].replace({'urban':0,'rural':1})"
      ],
      "metadata": {
        "id": "IB1iNyoUgfnn"
      },
      "execution_count": null,
      "outputs": []
    },
    {
      "cell_type": "code",
      "source": [
        "fa = FactorAnalyzer()\n",
        "fa.fit(df)"
      ],
      "metadata": {
        "colab": {
          "base_uri": "https://localhost:8080/",
          "height": 75
        },
        "id": "P1r-P8qtYzE6",
        "outputId": "4360f5b4-176a-4999-c8eb-ddba64b3cc1e"
      },
      "execution_count": null,
      "outputs": [
        {
          "output_type": "execute_result",
          "data": {
            "text/plain": [
              "FactorAnalyzer(rotation_kwargs={})"
            ],
            "text/html": [
              "<style>#sk-container-id-1 {color: black;background-color: white;}#sk-container-id-1 pre{padding: 0;}#sk-container-id-1 div.sk-toggleable {background-color: white;}#sk-container-id-1 label.sk-toggleable__label {cursor: pointer;display: block;width: 100%;margin-bottom: 0;padding: 0.3em;box-sizing: border-box;text-align: center;}#sk-container-id-1 label.sk-toggleable__label-arrow:before {content: \"▸\";float: left;margin-right: 0.25em;color: #696969;}#sk-container-id-1 label.sk-toggleable__label-arrow:hover:before {color: black;}#sk-container-id-1 div.sk-estimator:hover label.sk-toggleable__label-arrow:before {color: black;}#sk-container-id-1 div.sk-toggleable__content {max-height: 0;max-width: 0;overflow: hidden;text-align: left;background-color: #f0f8ff;}#sk-container-id-1 div.sk-toggleable__content pre {margin: 0.2em;color: black;border-radius: 0.25em;background-color: #f0f8ff;}#sk-container-id-1 input.sk-toggleable__control:checked~div.sk-toggleable__content {max-height: 200px;max-width: 100%;overflow: auto;}#sk-container-id-1 input.sk-toggleable__control:checked~label.sk-toggleable__label-arrow:before {content: \"▾\";}#sk-container-id-1 div.sk-estimator input.sk-toggleable__control:checked~label.sk-toggleable__label {background-color: #d4ebff;}#sk-container-id-1 div.sk-label input.sk-toggleable__control:checked~label.sk-toggleable__label {background-color: #d4ebff;}#sk-container-id-1 input.sk-hidden--visually {border: 0;clip: rect(1px 1px 1px 1px);clip: rect(1px, 1px, 1px, 1px);height: 1px;margin: -1px;overflow: hidden;padding: 0;position: absolute;width: 1px;}#sk-container-id-1 div.sk-estimator {font-family: monospace;background-color: #f0f8ff;border: 1px dotted black;border-radius: 0.25em;box-sizing: border-box;margin-bottom: 0.5em;}#sk-container-id-1 div.sk-estimator:hover {background-color: #d4ebff;}#sk-container-id-1 div.sk-parallel-item::after {content: \"\";width: 100%;border-bottom: 1px solid gray;flex-grow: 1;}#sk-container-id-1 div.sk-label:hover label.sk-toggleable__label {background-color: #d4ebff;}#sk-container-id-1 div.sk-serial::before {content: \"\";position: absolute;border-left: 1px solid gray;box-sizing: border-box;top: 0;bottom: 0;left: 50%;z-index: 0;}#sk-container-id-1 div.sk-serial {display: flex;flex-direction: column;align-items: center;background-color: white;padding-right: 0.2em;padding-left: 0.2em;position: relative;}#sk-container-id-1 div.sk-item {position: relative;z-index: 1;}#sk-container-id-1 div.sk-parallel {display: flex;align-items: stretch;justify-content: center;background-color: white;position: relative;}#sk-container-id-1 div.sk-item::before, #sk-container-id-1 div.sk-parallel-item::before {content: \"\";position: absolute;border-left: 1px solid gray;box-sizing: border-box;top: 0;bottom: 0;left: 50%;z-index: -1;}#sk-container-id-1 div.sk-parallel-item {display: flex;flex-direction: column;z-index: 1;position: relative;background-color: white;}#sk-container-id-1 div.sk-parallel-item:first-child::after {align-self: flex-end;width: 50%;}#sk-container-id-1 div.sk-parallel-item:last-child::after {align-self: flex-start;width: 50%;}#sk-container-id-1 div.sk-parallel-item:only-child::after {width: 0;}#sk-container-id-1 div.sk-dashed-wrapped {border: 1px dashed gray;margin: 0 0.4em 0.5em 0.4em;box-sizing: border-box;padding-bottom: 0.4em;background-color: white;}#sk-container-id-1 div.sk-label label {font-family: monospace;font-weight: bold;display: inline-block;line-height: 1.2em;}#sk-container-id-1 div.sk-label-container {text-align: center;}#sk-container-id-1 div.sk-container {/* jupyter's `normalize.less` sets `[hidden] { display: none; }` but bootstrap.min.css set `[hidden] { display: none !important; }` so we also need the `!important` here to be able to override the default hidden behavior on the sphinx rendered scikit-learn.org. See: https://github.com/scikit-learn/scikit-learn/issues/21755 */display: inline-block !important;position: relative;}#sk-container-id-1 div.sk-text-repr-fallback {display: none;}</style><div id=\"sk-container-id-1\" class=\"sk-top-container\"><div class=\"sk-text-repr-fallback\"><pre>FactorAnalyzer(rotation_kwargs={})</pre><b>In a Jupyter environment, please rerun this cell to show the HTML representation or trust the notebook. <br />On GitHub, the HTML representation is unable to render, please try loading this page with nbviewer.org.</b></div><div class=\"sk-container\" hidden><div class=\"sk-item\"><div class=\"sk-estimator sk-toggleable\"><input class=\"sk-toggleable__control sk-hidden--visually\" id=\"sk-estimator-id-1\" type=\"checkbox\" checked><label for=\"sk-estimator-id-1\" class=\"sk-toggleable__label sk-toggleable__label-arrow\">FactorAnalyzer</label><div class=\"sk-toggleable__content\"><pre>FactorAnalyzer(rotation_kwargs={})</pre></div></div></div></div></div>"
            ]
          },
          "metadata": {},
          "execution_count": 39
        }
      ]
    },
    {
      "cell_type": "code",
      "source": [
        "factor_loadings = fa.loadings_\n",
        "print(\"Factor Loadings:\\n\", factor_loadings)"
      ],
      "metadata": {
        "colab": {
          "base_uri": "https://localhost:8080/"
        },
        "id": "1IA9Hv8qaTYL",
        "outputId": "2d0088b2-d298-4326-dc89-4f9af2240354"
      },
      "execution_count": null,
      "outputs": [
        {
          "output_type": "stream",
          "name": "stdout",
          "text": [
            "Factor Loadings:\n",
            " [[-1.14879805e-01 -2.55072419e-02 -1.40562771e-02]\n",
            " [ 2.15769656e-02  2.27918804e-02  3.06845466e-01]\n",
            " [-6.21961478e-02  2.85443891e-02 -3.17814741e-02]\n",
            " [ 8.58309808e-01 -2.60792094e-02  5.50538090e-03]\n",
            " [-1.13640789e-02 -5.14701109e-03  1.88050661e-01]\n",
            " [-1.77920351e-02 -1.07562815e-02 -1.50476410e-01]\n",
            " [ 4.29888433e-02 -1.01185364e-02  7.82928856e-03]\n",
            " [ 7.06239087e-03 -8.77769761e-02 -1.48318971e-01]\n",
            " [ 1.06490302e-02  1.89591459e-02 -1.94853125e-01]\n",
            " [-8.22550651e-03  4.04207261e-02  2.56216612e-02]\n",
            " [ 7.71461662e-01 -1.25344564e-02  6.18933648e-03]\n",
            " [ 4.11893149e-01 -2.32090066e-02 -4.87028228e-02]\n",
            " [-2.22176045e-02  1.87504773e-01 -1.62812096e-02]\n",
            " [-3.00217765e-02 -1.13244479e-01 -4.69171423e-02]\n",
            " [ 3.81893701e-02 -3.65721453e-02 -8.40267454e-02]\n",
            " [ 7.50450925e-02  7.56207615e-01 -9.90101830e-03]\n",
            " [ 1.00198376e-02  4.53734561e-01 -1.58138666e-02]\n",
            " [-1.88688381e-02 -6.00918914e-01  4.15653055e-02]\n",
            " [ 2.25515009e-03  2.63069075e-01 -4.76726646e-02]\n",
            " [ 3.80141187e-02  2.88890974e-01  1.22908253e-02]\n",
            " [ 8.69137336e-02  8.61286194e-01 -2.10299092e-02]\n",
            " [-8.69137344e-02 -8.61286205e-01  2.10299092e-02]\n",
            " [-8.55374926e-03 -1.26811142e-01 -8.71131946e-03]\n",
            " [ 8.55374937e-03  1.26811144e-01  8.71131967e-03]\n",
            " [ 7.93704235e-02  7.07894192e-01 -1.16936513e-03]\n",
            " [-4.66175636e-02 -3.87480569e-01  6.58855197e-02]\n",
            " [-2.02209979e-02  1.75800292e-01 -1.59591183e-02]\n",
            " [ 4.47174851e-02 -2.18650512e-02  5.61084181e-02]\n",
            " [-1.31681319e-02  5.83588609e-02  1.86247830e-02]\n",
            " [-2.69511516e-02  4.60710118e-02 -6.05791227e-03]\n",
            " [ 1.57185242e-01  1.02126538e-01 -8.40109697e-03]\n",
            " [-7.07912859e-02 -2.44414882e-03  1.21405275e-02]\n",
            " [-5.68525022e-02 -1.99792760e-02  3.33749965e-02]\n",
            " [ 3.45925178e-03 -2.08589481e-02 -1.27738209e-01]\n",
            " [ 2.02267299e-02 -5.90531316e-03  5.17511449e-03]\n",
            " [-3.12791196e-03 -2.08915078e-02 -2.16667531e-01]\n",
            " [-1.43798530e-02 -4.16901325e-02  3.06719869e-02]\n",
            " [ 4.53285599e-02  1.12779970e-02 -7.25493433e-02]\n",
            " [-1.38408421e-02 -3.12725842e-02  3.07161893e-02]\n",
            " [ 2.74838579e-02 -4.42803170e-02  9.44396502e-02]\n",
            " [-2.81393493e-02  2.66853623e-02  1.85122766e-02]\n",
            " [-2.36011222e-02  5.51611305e-02 -4.19681857e-03]\n",
            " [-3.02503550e-02 -1.70699400e-02 -2.77451764e-02]\n",
            " [ 9.04792345e-02  9.18992602e-02  3.00598039e-02]\n",
            " [ 1.47296610e-01  5.10889902e-02 -2.25940327e-02]\n",
            " [-1.34337345e-02  4.71478198e-02  3.19310068e-01]\n",
            " [-1.01202246e-01  1.24311827e-02  5.39857082e-03]\n",
            " [ 9.09790649e-01  4.31390767e-03 -3.40407976e-02]\n",
            " [ 7.01556808e-01  3.35137825e-02 -2.14108995e-02]\n",
            " [ 9.10525743e-01 -8.27802833e-03 -3.64579930e-02]\n",
            " [ 7.93891049e-01 -3.00786032e-02 -1.42076931e-02]\n",
            " [ 8.66364839e-01 -1.94818432e-02 -3.81107596e-02]\n",
            " [-7.28913505e-02  5.61432969e-02 -8.47011309e-03]\n",
            " [-6.81319662e-02 -2.80162650e-03 -3.16252884e-02]\n",
            " [-4.87661109e-02  5.70324558e-02 -1.67293235e-02]\n",
            " [-6.70360403e-02  1.18841176e-02 -1.98757041e-02]\n",
            " [-4.98950659e-02  6.29987464e-02 -1.11422658e-02]\n",
            " [ 8.09117649e-01 -4.34445280e-04 -2.89058512e-02]\n",
            " [-5.14514926e-03  1.73865427e-02  5.43299266e-02]\n",
            " [-2.47718913e-02  4.49310405e-02  1.76212995e-01]\n",
            " [ 8.73764452e-01 -1.95651018e-02 -8.82682888e-03]\n",
            " [ 7.43023734e-01 -1.13510566e-02  3.58347289e-02]\n",
            " [ 2.82138564e-01 -4.12265296e-02  1.15913363e-02]\n",
            " [ 8.65370056e-01 -1.82250189e-02 -2.67953779e-03]\n",
            " [ 8.95312491e-01 -3.40673498e-02  8.88410332e-05]\n",
            " [ 8.67870683e-01 -2.14730545e-02 -5.67454367e-03]\n",
            " [-9.54337097e-02  5.41396891e-02 -3.02599975e-03]\n",
            " [ 1.51307311e-01  4.97849258e-02  3.25747106e-02]\n",
            " [ 1.60123794e-01 -5.99493192e-02  1.30252297e-02]\n",
            " [ 1.61666143e-01  3.73608391e-02  6.40692223e-02]\n",
            " [-1.97645683e-02  4.48293191e-02  3.23803129e-02]\n",
            " [-3.07197699e-02  5.22958257e-02  3.35510339e-02]\n",
            " [ 4.98050668e-01  2.19852578e-02  6.99405212e-02]\n",
            " [ 1.11234577e-01  4.15877701e-02  5.42474892e-02]\n",
            " [-1.54456901e-02  2.53357741e-02  6.03091486e-02]\n",
            " [ 1.03740045e-02 -1.50850743e-02  5.52931119e-02]\n",
            " [ 2.07103027e-02 -8.15840874e-03  2.31386590e-01]\n",
            " [-1.37729143e-02  9.82557417e-04  1.04784879e-01]\n",
            " [ 2.32554850e-02 -6.23151716e-03  2.47262484e-01]\n",
            " [-1.20780417e-03 -2.44484263e-02  2.14862237e-01]\n",
            " [ 6.23494115e-03 -1.17343339e-02  2.92822571e-02]\n",
            " [-2.52451086e-04  2.84393392e-02  3.18690249e-01]\n",
            " [ 3.22809662e-01  7.30162629e-02 -4.14995250e-02]\n",
            " [ 1.95818831e-01  3.79644440e-02 -4.13712560e-02]\n",
            " [ 2.04961244e-01  4.28086938e-02 -4.17581526e-02]\n",
            " [ 2.98451780e-02  3.22404774e-02 -3.75169357e-02]\n",
            " [ 2.05406228e-01 -3.40252552e-02  3.82695796e-02]\n",
            " [ 1.30725085e-01 -4.24419638e-02  8.21119461e-02]\n",
            " [ 2.04961232e-01  4.28086878e-02 -4.17581459e-02]\n",
            " [ 1.58326696e-02  2.75157491e-02  4.90906729e-01]\n",
            " [ 7.33234908e-02  1.53579912e-02  7.66976806e-01]\n",
            " [ 5.63785592e-02  2.63117065e-02  7.79811265e-01]\n",
            " [ 5.25942593e-02  8.55605938e-03  7.52697135e-01]\n",
            " [ 3.51636396e-02  2.46293400e-02  7.45682204e-01]\n",
            " [-2.71040352e-02 -1.43384589e-02 -1.76329361e-01]\n",
            " [-5.40879736e-02  1.81317687e-02  1.48021650e-02]\n",
            " [-7.21249495e-03 -3.58544535e-02  6.53147107e-02]\n",
            " [ 5.91601486e-02  9.70281242e-03  2.73291246e-01]\n",
            " [-5.29249167e-02 -4.43236130e-02 -1.74454113e-02]\n",
            " [-3.00309713e-02 -2.55659455e-02 -2.34779765e-03]\n",
            " [ 2.92025665e-02 -1.39373728e-02  5.28819243e-02]\n",
            " [ 1.72905010e-01  9.11680209e-03 -8.62995320e-02]\n",
            " [ 3.59620043e-02  3.31703108e-02 -6.50325058e-02]\n",
            " [ 9.60136878e-03  2.73857624e-02 -4.83428021e-02]\n",
            " [ 1.76613566e-02  2.42277886e-02 -5.52478243e-02]\n",
            " [ 5.70227460e-02  7.41041568e-03 -5.55319124e-02]\n",
            " [ 5.54826882e-02  2.14211131e-02 -1.79402358e-02]\n",
            " [ 8.65835353e-02 -3.99245430e-02 -4.36091856e-02]\n",
            " [ 8.18392779e-01 -5.42991461e-02 -9.19442502e-03]\n",
            " [ 5.68642290e-01 -3.00293436e-02  6.32260708e-03]\n",
            " [ 3.57356229e-02  1.26578585e-03  5.71589151e-02]\n",
            " [ 3.04035025e-03 -7.30539168e-02 -1.77422202e-01]\n",
            " [-1.97085392e-02 -8.09217714e-02 -1.56806319e-01]\n",
            " [-8.32537673e-02 -7.28031005e-01  1.88645252e-02]\n",
            " [ 1.15984302e-02  8.99460967e-02  2.68391358e-02]]\n"
          ]
        }
      ]
    },
    {
      "cell_type": "code",
      "source": [
        "ev, v = fa.get_eigenvalues()\n",
        "print(\"Eigenvalues:\\n\", ev)"
      ],
      "metadata": {
        "colab": {
          "base_uri": "https://localhost:8080/"
        },
        "id": "ch2lt6qBgyCs",
        "outputId": "9936254f-a7bb-452a-f6f9-dd07662c1fb6"
      },
      "execution_count": null,
      "outputs": [
        {
          "output_type": "stream",
          "name": "stdout",
          "text": [
            "Eigenvalues:\n",
            " [ 1.15910496e+01  4.72798278e+00  4.14122617e+00  3.65747013e+00\n",
            "  3.39463603e+00  3.19192586e+00  3.14590899e+00  3.11112272e+00\n",
            "  2.99684356e+00  2.61569203e+00  2.36682733e+00  2.29506473e+00\n",
            "  2.14497390e+00  2.10803611e+00  1.89570243e+00  1.82559530e+00\n",
            "  1.79172735e+00  1.72468880e+00  1.66870323e+00  1.61140225e+00\n",
            "  1.60759140e+00  1.48569532e+00  1.44950320e+00  1.42416149e+00\n",
            "  1.32206500e+00  1.26997276e+00  1.26802580e+00  1.23203754e+00\n",
            "  1.18679948e+00  1.18099213e+00  1.16848190e+00  1.14816206e+00\n",
            "  1.13279394e+00  1.10622854e+00  1.07238435e+00  1.06724858e+00\n",
            "  1.04587269e+00  1.02668790e+00  1.00505536e+00  9.63966451e-01\n",
            "  9.51444306e-01  9.37624247e-01  9.35237182e-01  9.18926331e-01\n",
            "  9.03952804e-01  8.71189737e-01  8.67664392e-01  8.56210100e-01\n",
            "  8.35742436e-01  8.31986739e-01  7.98828960e-01  7.85728273e-01\n",
            "  7.74011853e-01  7.53261511e-01  7.44627169e-01  7.34280793e-01\n",
            "  7.20206405e-01  6.78145208e-01  6.64361673e-01  6.38150484e-01\n",
            "  6.24647485e-01  6.03188309e-01  5.92277787e-01  5.62571793e-01\n",
            "  5.40083799e-01  5.21589873e-01  5.20422008e-01  4.99667246e-01\n",
            "  4.89207266e-01  4.85224783e-01  4.72845279e-01  4.38334780e-01\n",
            "  4.25696346e-01  4.20687112e-01  4.02104287e-01  3.91464114e-01\n",
            "  3.71621565e-01  3.54286303e-01  3.28472620e-01  3.19958003e-01\n",
            "  2.77385798e-01  2.55168243e-01  2.30472443e-01  2.23855580e-01\n",
            "  2.00135326e-01  1.86930782e-01  1.80442619e-01  1.67703901e-01\n",
            "  1.65972724e-01  1.56522062e-01  1.43334436e-01  1.38665512e-01\n",
            "  1.33101316e-01  1.27598175e-01  1.21379962e-01  9.81719740e-02\n",
            "  9.40195754e-02  8.92131089e-02  6.84016113e-02  5.40872151e-02\n",
            "  3.24573160e-02  3.12970708e-02  1.89551321e-02  1.33671347e-02\n",
            "  1.27021915e-02  1.16607739e-02  1.12964721e-02  9.29396027e-03\n",
            "  7.40715011e-03  1.67386630e-03  1.08995627e-03  4.17832243e-16\n",
            "  2.62475569e-16  2.18148295e-16 -3.44628429e-16]\n"
          ]
        }
      ]
    },
    {
      "cell_type": "code",
      "source": [
        "factor_variance = fa.get_factor_variance()\n",
        "print(\"Factor Variance:\\n\", factor_variance)"
      ],
      "metadata": {
        "colab": {
          "base_uri": "https://localhost:8080/"
        },
        "id": "KMYyjIhng1Sk",
        "outputId": "c7315ab9-23a8-4390-d2ea-443ab48d39b3"
      },
      "execution_count": null,
      "outputs": [
        {
          "output_type": "stream",
          "name": "stdout",
          "text": [
            "Factor Variance:\n",
            " (array([11.24706756,  4.21149019,  3.53680095]), array([0.09780059, 0.03662165, 0.03075479]), array([0.09780059, 0.13442224, 0.16517703]))\n"
          ]
        }
      ]
    },
    {
      "cell_type": "code",
      "source": [
        "import pandas as pd\n",
        "from factor_analyzer import FactorAnalyzer\n",
        "\n",
        "# Assuming 'df' is your DataFrame\n",
        "# Assuming 'selected_columns' is a list of numerical columns for factor analysis\n",
        "selected_columns = df.columns # Replace with your actual variable names\n",
        "\n",
        "# Fit the FactorAnalyzer\n",
        "fa = FactorAnalyzer()\n",
        "fa.fit(df[selected_columns])\n",
        "\n",
        "# Get factor loadings\n",
        "factor_loadings = pd.DataFrame(fa.loadings_, index=selected_columns, columns=[f'Factor_{i+1}' for i in range(fa.n_factors)])\n",
        "\n",
        "# Display factor loadings\n",
        "print(\"Factor Loadings:\")\n",
        "print(factor_loadings)\n",
        "\n",
        "# Create a dictionary to store column names for each factor\n",
        "factor_columns_dict = {}\n",
        "\n",
        "# Loop through each factor and sort column names based on factor loading values\n",
        "for factor in factor_loadings.columns:\n",
        "    sorted_columns = factor_loadings[factor].abs().sort_values(ascending=False).index.tolist()\n",
        "    factor_columns_dict[factor] = sorted_columns\n",
        "\n",
        "# Display sorted column names for each factor\n",
        "print(\"\\nSorted Column Names for Each Factor:\")\n",
        "for factor, columns in factor_columns_dict.items():\n",
        "    print(f\"{factor}: {columns}\")\n"
      ],
      "metadata": {
        "colab": {
          "base_uri": "https://localhost:8080/"
        },
        "id": "Pc_WQ3sIg4MN",
        "outputId": "86511dfa-1dd1-473e-fcab-322d595ac434"
      },
      "execution_count": null,
      "outputs": [
        {
          "output_type": "stream",
          "name": "stdout",
          "text": [
            "Factor Loadings:\n",
            "                    Factor_1  Factor_2  Factor_3\n",
            "Customer_ID        -0.114880 -0.025507 -0.014056\n",
            "upsell_xsell        0.021577  0.022792  0.306845\n",
            "churn              -0.062196  0.028544 -0.031781\n",
            "lifetime_value      0.858310 -0.026079  0.005505\n",
            "avg_arpu_3m        -0.011364 -0.005147  0.188051\n",
            "...                      ...       ...       ...\n",
            "verbatims1          0.035736  0.001266  0.057159\n",
            "sentiment_category  0.003040 -0.073054 -0.177422\n",
            "sentiment_score    -0.019709 -0.080922 -0.156806\n",
            "location           -0.083254 -0.728031  0.018865\n",
            "gender              0.011598  0.089946  0.026839\n",
            "\n",
            "[115 rows x 3 columns]\n",
            "\n",
            "Sorted Column Names for Each Factor:\n",
            "Factor_1: ['calls_in_offpk', 'calls_total', 'mb_data_usg_m02', 'bill_data_usg_m03', 'mb_data_usg_m03', 'calls_out_pk', 'mb_data_usg_m01', 'lifetime_value', 'seconds_of_data_norm', 'voice_tot_bill_mou_curr', 'calls_out_offpk', 'rfm_score', 'bill_data_usg_m06', 'calls_in_pk', 'seconds_of_data_log', 'tot_mb_data_curr', 'Est_HH_Income', 'calls_TS_acct', 'bill_data_usg_m09', 'wrk_orders', 'num_tsupcomplnts', 'resolved_complnts', 'open_tsupcomplnts', 'calls_care_ltd', 'mb_data_usg_roamm03', 'mb_data_usg_roamm02', 'ever_times_over_plan', 'mb_data_usg_roamm01', 'times_delinq', 'days_openwrkorders', 'Customer_ID', 'tot_mb_data_roam_curr', 'avg_days_susp', 'mb_data_ndist_mo6m', 'delinq_indicator', 'cs_ttl_rural', 'cs_ttl_urban', 'MB_Data_Usg_M09', 'location', 'cs_ttl_hhlds', 'cs_ttl_pop', 'calls_care_3mavg_acct', 'mou_total_pct_MOM', 'handset_age_grp', 'mou_onnet_pct_MOM', 'mou_onnet_6m_normal', 'churn', 'price_mention', 'MB_Data_Usg_M07', 'handset', 'calls_care_6mavg_acct', 'MB_Data_Usg_M08', 'network_mention', 'times_susp', 'res_calls_3mavg_acct', 'mou_roam_6m_normal', 'mou_roam_pct_MOM', 'cs_ttl_mdage', 'mfg_apple', 'product_plan_desc', 'billing_cycle', 'cs_pct_home_owner', 'cs_other', 'MB_Data_Usg_M04', 'verbatims1', 'res_calls_6mavg_acct', 'tweedie_adjusted', 'mfg_nokia', 'curr_days_susp', 'cs_med_home_value', 'unsolv_tsupcomplnt', 'pymts_late_ltd', 'mfg_motorola', 'mfg_htc', 'last_rep_sat_score', 'ever_days_over_plan', 'tot_drpd_pr1', 'mfg_lg', 'avg_data_chrgs_3m', 'zipcode_primary', 'upsell_xsell', 'data_prem_chrgs_curr', 'rp_pooled_ind', 'forecast_region', 'data_usage_amt', 'sentiment_score', 'cs_caucasian', 'acct_age', 'MB_Data_Usg_M06', 'calls_care_acct', 'bill_data_usg_tot', 'equip_age', 'mfg_samsung', 'nbr_data_cdrs', 'count_of_suspensions_6m', 'mb_inclplan', 'gender', 'avg_arpu_3m', 'credit_class', 'tot_overage_chgs', 'cs_hispanic', 'MB_Data_Usg_M05', 'cs_ttl_female', 'cs_ttl_male', 'sales_channel', 'service_mention', 'nbr_contracts_ltd', 'avg_overage_chrgs_3m', 'tot_voice_chrgs_curr', 'lifestage', 'data_device_age', 'sentiment_category', 'cs_afr_amer', 'avg_data_prem_chrgs_3m', 'nbr_contacts']\n",
            "Factor_2: ['cs_ttl_rural', 'cs_ttl_urban', 'cs_ttl_pop', 'location', 'cs_ttl_hhlds', 'cs_caucasian', 'cs_hispanic', 'cs_ttl_mdage', 'cs_other', 'cs_afr_amer', 'zipcode_primary', 'forecast_region', 'cs_ttl_female', 'cs_ttl_male', 'cs_med_home_value', 'ever_times_over_plan', 'delinq_indicator', 'gender', 'nbr_contracts_ltd', 'sentiment_score', 'sentiment_category', 'calls_TS_acct', 'mou_roam_6m_normal', 'mb_data_usg_roamm02', 'mb_inclplan', 'mou_roam_pct_MOM', 'mou_total_pct_MOM', 'mfg_lg', 'seconds_of_data_norm', 'mb_data_ndist_mo6m', 'tweedie_adjusted', 'times_delinq', 'mb_data_usg_roamm01', 'count_of_suspensions_6m', 'ever_days_over_plan', 'tot_drpd_pr1', 'data_usage_amt', 'times_susp', 'mfg_htc', 'num_tsupcomplnts', 'resolved_complnts', 'days_openwrkorders', 'equip_age', 'tot_mb_data_roam_curr', 'bill_data_usg_m09', 'sales_channel', 'MB_Data_Usg_M09', 'open_tsupcomplnts', 'mb_data_usg_roamm03', 'cs_pct_home_owner', 'service_mention', 'mb_data_usg_m02', 'wrk_orders', 'calls_in_pk', 'MB_Data_Usg_M04', 'unsolv_tsupcomplnt', 'mfg_samsung', 'calls_out_offpk', 'seconds_of_data_log', 'churn', 'nbr_contacts', 'calls_care_acct', 'MB_Data_Usg_M05', 'mfg_motorola', 'calls_care_6mavg_acct', 'lifetime_value', 'curr_days_susp', 'Customer_ID', 'bill_data_usg_tot', 'res_calls_6mavg_acct', 'avg_data_prem_chrgs_3m', 'MB_Data_Usg_M06', 'Est_HH_Income', 'upsell_xsell', 'tot_mb_data_curr', 'product_plan_desc', 'mb_data_usg_m03', 'MB_Data_Usg_M08', 'data_device_age', 'lifestage', 'handset', 'bill_data_usg_m03', 'calls_out_pk', 'credit_class', 'mb_data_usg_m01', 'network_mention', 'tot_voice_chrgs_curr', 'mfg_nokia', 'calls_care_3mavg_acct', 'tot_overage_chgs', 'last_rep_sat_score', 'pymts_late_ltd', 'rfm_score', 'avg_days_susp', 'mou_onnet_6m_normal', 'avg_overage_chrgs_3m', 'bill_data_usg_m06', 'mfg_apple', 'acct_age', 'billing_cycle', 'price_mention', 'calls_care_ltd', 'res_calls_3mavg_acct', 'calls_in_offpk', 'data_prem_chrgs_curr', 'MB_Data_Usg_M07', 'avg_data_chrgs_3m', 'rp_pooled_ind', 'avg_arpu_3m', 'calls_total', 'mou_onnet_pct_MOM', 'handset_age_grp', 'verbatims1', 'nbr_data_cdrs', 'voice_tot_bill_mou_curr']\n",
            "Factor_3: ['calls_care_6mavg_acct', 'calls_care_3mavg_acct', 'res_calls_3mavg_acct', 'res_calls_6mavg_acct', 'calls_care_acct', 'count_of_suspensions_6m', 'nbr_contacts', 'upsell_xsell', 'price_mention', 'avg_data_chrgs_3m', 'data_prem_chrgs_curr', 'data_device_age', 'avg_data_prem_chrgs_3m', 'credit_class', 'avg_arpu_3m', 'sentiment_category', 'last_rep_sat_score', 'tot_drpd_pr1', 'sentiment_score', 'acct_age', 'nbr_contracts_ltd', 'lifestage', 'nbr_data_cdrs', 'mfg_htc', 'calls_care_ltd', 'cs_pct_home_owner', 'days_openwrkorders', 'mfg_apple', 'tot_mb_data_curr', 'cs_ttl_mdage', 'service_mention', 'MB_Data_Usg_M04', 'mb_data_usg_roamm03', 'bill_data_usg_tot', 'verbatims1', 'product_plan_desc', 'MB_Data_Usg_M07', 'tot_overage_chgs', 'MB_Data_Usg_M06', 'tot_voice_chrgs_curr', 'tot_mb_data_roam_curr', 'pymts_late_ltd', 'Est_HH_Income', 'MB_Data_Usg_M05', 'cs_afr_amer', 'cs_med_home_value', 'MB_Data_Usg_M09', 'num_tsupcomplnts', 'resolved_complnts', 'cs_caucasian', 'calls_TS_acct', 'open_tsupcomplnts', 'wrk_orders', 'calls_out_pk', 'unsolv_tsupcomplnt', 'calls_in_offpk', 'bill_data_usg_m06', 'calls_total', 'tweedie_adjusted', 'handset', 'mb_data_usg_roamm01', 'data_usage_amt', 'churn', 'mou_onnet_pct_MOM', 'mfg_samsung', 'equip_age', 'delinq_indicator', 'avg_overage_chrgs_3m', 'voice_tot_bill_mou_curr', 'mfg_nokia', 'gender', 'sales_channel', 'times_delinq', 'calls_in_pk', 'cs_ttl_urban', 'cs_ttl_rural', 'mou_onnet_6m_normal', 'location', 'mb_inclplan', 'mfg_motorola', 'MB_Data_Usg_M08', 'times_susp', 'mou_roam_pct_MOM', 'zipcode_primary', 'forecast_region', 'cs_hispanic', 'network_mention', 'calls_out_offpk', 'Customer_ID', 'mb_data_usg_roamm02', 'cs_other', 'handset_age_grp', 'bill_data_usg_m09', 'mou_roam_6m_normal', 'cs_ttl_pop', 'seconds_of_data_norm', 'bill_data_usg_m03', 'cs_ttl_female', 'cs_ttl_male', 'mou_total_pct_MOM', 'ever_times_over_plan', 'billing_cycle', 'seconds_of_data_log', 'rfm_score', 'ever_days_over_plan', 'mb_data_usg_m03', 'lifetime_value', 'avg_days_susp', 'rp_pooled_ind', 'mfg_lg', 'mb_data_ndist_mo6m', 'mb_data_usg_m01', 'curr_days_susp', 'cs_ttl_hhlds', 'mb_data_usg_m02']\n"
          ]
        }
      ]
    },
    {
      "cell_type": "markdown",
      "source": [],
      "metadata": {
        "id": "ujaqjJaBqTKi"
      }
    },
    {
      "cell_type": "markdown",
      "source": [],
      "metadata": {
        "id": "T0ea-4ajqTCK"
      }
    },
    {
      "cell_type": "code",
      "source": [
        "# Calculate the correlation matrix\n",
        "corr_matrix = df.corr()\n",
        "\n",
        "# Get the columns with the highest correlation with the target variable\n",
        "target_variable = \"rfm_score\"\n",
        "highest_correlations = corr_matrix[target_variable].abs().sort_values(ascending=False)[1:]\n",
        "\n",
        "# Print the columns with the highest correlation\n",
        "print(highest_correlations)"
      ],
      "metadata": {
        "colab": {
          "base_uri": "https://localhost:8080/"
        },
        "id": "_is5fJydhRnF",
        "outputId": "ed3f58f5-fa25-4a77-b8c9-350031daf4be"
      },
      "execution_count": null,
      "outputs": [
        {
          "output_type": "stream",
          "name": "stdout",
          "text": [
            "seconds_of_data_norm    0.727368\n",
            "lifetime_value          0.690630\n",
            "calls_in_offpk          0.688696\n",
            "calls_total             0.684058\n",
            "mb_data_usg_m02         0.673307\n",
            "                          ...   \n",
            "sentiment_category      0.001691\n",
            "lifestage               0.001584\n",
            "data_prem_chrgs_curr    0.001395\n",
            "avg_data_chrgs_3m       0.000914\n",
            "verbatims1              0.000616\n",
            "Name: rfm_score, Length: 114, dtype: float64\n"
          ]
        },
        {
          "output_type": "stream",
          "name": "stderr",
          "text": [
            "<ipython-input-63-65ca45fdf526>:2: FutureWarning: The default value of numeric_only in DataFrame.corr is deprecated. In a future version, it will default to False. Select only valid columns or specify the value of numeric_only to silence this warning.\n",
            "  corr_matrix = df.corr()\n"
          ]
        }
      ]
    },
    {
      "cell_type": "code",
      "source": [
        "# Calculate the correlation matrix\n",
        "corr_matrix = df.corr()\n",
        "\n",
        "# Get the columns with the highest correlation with the target variable\n",
        "target_variable = \"lifetime_value\"\n",
        "highest_correlations = corr_matrix[target_variable].abs().sort_values(ascending=False)[1:]\n",
        "\n",
        "# Filter columns with correlations greater than 0.5\n",
        "high_corr_columns = highest_correlations[highest_correlations > 0.5]\n",
        "\n",
        "# Print the columns with the highest correlation\n",
        "if not high_corr_columns.empty:\n",
        "    print(\"Columns with correlations greater than 0.5:\")\n",
        "    print(high_corr_columns)\n",
        "else:\n",
        "    print(\"No columns with correlations greater than 0.5.\")\n"
      ],
      "metadata": {
        "colab": {
          "base_uri": "https://localhost:8080/"
        },
        "id": "jLdBl_lZqYmA",
        "outputId": "d6e0f508-9304-4528-f510-5be44e4302f5"
      },
      "execution_count": null,
      "outputs": [
        {
          "output_type": "stream",
          "name": "stderr",
          "text": [
            "<ipython-input-56-35d0c6b84be9>:2: FutureWarning: The default value of numeric_only in DataFrame.corr is deprecated. In a future version, it will default to False. Select only valid columns or specify the value of numeric_only to silence this warning.\n",
            "  corr_matrix = df.corr()\n"
          ]
        },
        {
          "output_type": "stream",
          "name": "stdout",
          "text": [
            "Columns with correlations greater than 0.5:\n",
            "calls_out_offpk            0.888692\n",
            "calls_total                0.769658\n",
            "seconds_of_data_norm       0.761354\n",
            "calls_out_pk               0.750139\n",
            "calls_in_offpk             0.749936\n",
            "bill_data_usg_m06          0.744327\n",
            "mb_data_usg_m02            0.717391\n",
            "bill_data_usg_m03          0.693760\n",
            "rfm_score                  0.690630\n",
            "voice_tot_bill_mou_curr    0.686906\n",
            "mb_data_usg_m03            0.684375\n",
            "mb_data_usg_m01            0.681591\n",
            "calls_in_pk                0.613433\n",
            "Name: lifetime_value, dtype: float64\n"
          ]
        }
      ]
    },
    {
      "cell_type": "code",
      "source": [
        "import pandas as pd\n",
        "\n",
        "# Assuming 'df' is your DataFrame with 'rfm_score' column\n",
        "# Create a new column 'segment' based on RFM scores\n",
        "df['segment'] = pd.cut(df['rfm_score'], bins=[0, 111, 222, 333, 444, 555], labels=['Churn Risk', 'Low-Value', 'Medium-Value', 'High-Value', 'Loyal'])\n",
        "\n",
        "# Display the DataFrame with segments\n",
        "print(df[['Customer_ID', 'rfm_score', 'segment']])"
      ],
      "metadata": {
        "colab": {
          "base_uri": "https://localhost:8080/"
        },
        "id": "SaKbDpleq-vb",
        "outputId": "917cbc1f-ac7a-42bd-9c63-695e38280ff1"
      },
      "execution_count": null,
      "outputs": [
        {
          "output_type": "stream",
          "name": "stdout",
          "text": [
            "      Customer_ID  rfm_score       segment\n",
            "0             471        223  Medium-Value\n",
            "1            1057        333  Medium-Value\n",
            "2            1177        312  Medium-Value\n",
            "3            1181        112     Low-Value\n",
            "4            1185        332  Medium-Value\n",
            "...           ...        ...           ...\n",
            "1270        75360        312  Medium-Value\n",
            "1271        75364        112     Low-Value\n",
            "1272        75365        313  Medium-Value\n",
            "1273        75371        222     Low-Value\n",
            "1274        75372        222     Low-Value\n",
            "\n",
            "[1275 rows x 3 columns]\n"
          ]
        }
      ]
    },
    {
      "cell_type": "code",
      "source": [
        "df[\"rfm_score\"].unique()"
      ],
      "metadata": {
        "colab": {
          "base_uri": "https://localhost:8080/"
        },
        "id": "qbluRrhVq2cg",
        "outputId": "9e101532-ea9d-4a3f-fee2-63c34d934ae2"
      },
      "execution_count": null,
      "outputs": [
        {
          "output_type": "execute_result",
          "data": {
            "text/plain": [
              "array([223, 333, 312, 112, 332, 213, 323, 322, 233, 123, 222, 232, 313,\n",
              "       122, 121, 111, 212, 231, 133, 131, 321, 331, 113, 221, 311, 132,\n",
              "       211])"
            ]
          },
          "metadata": {},
          "execution_count": 47
        }
      ]
    },
    {
      "cell_type": "code",
      "source": [],
      "metadata": {
        "id": "dshRPmqo4OYe"
      },
      "execution_count": null,
      "outputs": []
    },
    {
      "cell_type": "code",
      "source": [
        "# prompt: pie plot for cs_ttl_mdage\n",
        "\n",
        "import matplotlib.pyplot as plt\n",
        "df['cs_ttl_mdage'].min()\n",
        "\n",
        "df['cs_ttl_mdage'].max()"
      ],
      "metadata": {
        "colab": {
          "base_uri": "https://localhost:8080/"
        },
        "id": "vzrH4k9V3ZLE",
        "outputId": "84eda7b9-b1f3-4669-cbec-6b3963ddae83"
      },
      "execution_count": null,
      "outputs": [
        {
          "output_type": "execute_result",
          "data": {
            "text/plain": [
              "63.9"
            ]
          },
          "metadata": {},
          "execution_count": 48
        }
      ]
    },
    {
      "cell_type": "code",
      "source": [
        "a=df['cs_hispanic'].mean()"
      ],
      "metadata": {
        "id": "AC4ztXG7Hq4B"
      },
      "execution_count": null,
      "outputs": []
    },
    {
      "cell_type": "code",
      "source": [
        "b=df[\"cs_caucasian\"].mean()"
      ],
      "metadata": {
        "id": "ua_-1A34JxtC"
      },
      "execution_count": null,
      "outputs": []
    },
    {
      "cell_type": "code",
      "source": [
        "c=df[\"cs_afr_amer\"].mean()"
      ],
      "metadata": {
        "id": "b-H_j-EnJ8mi"
      },
      "execution_count": null,
      "outputs": []
    },
    {
      "cell_type": "code",
      "source": [
        "d=df[\"cs_other\"].mean()"
      ],
      "metadata": {
        "id": "gUFLIuPzKCZQ"
      },
      "execution_count": null,
      "outputs": []
    },
    {
      "cell_type": "code",
      "source": [
        "# prompt: do pie chart in a,b,c,d\n",
        "\n",
        "import matplotlib.pyplot as plt\n",
        "labels = ['Hispanic', 'Caucasian', 'African American', 'Other']\n",
        "values = [a, b, c, d]\n",
        "\n",
        "fig, ax = plt.subplots()\n",
        "ax.pie(values, labels=labels, autopct=\"%1.1f%%\", startangle=90)\n",
        "ax.axis('equal')\n",
        "plt.title('Pie Chart of Race')\n",
        "plt.show()\n"
      ],
      "metadata": {
        "colab": {
          "base_uri": "https://localhost:8080/",
          "height": 433
        },
        "id": "5euDucuBKHYI",
        "outputId": "c059fc99-a50e-4aa8-d685-32de31c080d2"
      },
      "execution_count": null,
      "outputs": [
        {
          "output_type": "display_data",
          "data": {
            "text/plain": [
              "<Figure size 640x480 with 1 Axes>"
            ],
            "image/png": "[encoded data removed]"
          },
          "metadata": {}
        }
      ]
    },
    {
      "cell_type": "code",
      "source": [
        "import seaborn as sns\n",
        "import matplotlib.pyplot as plt\n",
        "\n",
        "# Bar plot\n",
        "plt.figure(figsize=(10, 6))\n",
        "sns.countplot(x='gender', data=df)\n",
        "plt.title('Count of Calls by Gender')\n",
        "plt.xlabel('Gender')\n",
        "plt.ylabel('Count of Calls')\n",
        "plt.show()"
      ],
      "metadata": {
        "colab": {
          "base_uri": "https://localhost:8080/",
          "height": 564
        },
        "id": "F4paKScILTWV",
        "outputId": "9b857983-460f-4b08-fbd7-bdef8a3ecbbf"
      },
      "execution_count": null,
      "outputs": [
        {
          "output_type": "display_data",
          "data": {
            "text/plain": [
              "<Figure size 1000x600 with 1 Axes>"
            ],
            "image/png": "[encoded data removed]"
          },
          "metadata": {}
        }
      ]
    },
    {
      "cell_type": "code",
      "source": [
        "X = df[['rfm_score', 'seconds_of_data_norm', 'calls_total', 'calls_in_offpk', 'voice_tot_bill_mou_curr', 'calls_out_pk']]\n",
        "y = df['lifetime_value']"
      ],
      "metadata": {
        "id": "72odJBDOLUD8"
      },
      "execution_count": null,
      "outputs": []
    },
    {
      "cell_type": "code",
      "source": [
        "from scipy import stats\n",
        "\n",
        "# Calculate Z-scores for each column\n",
        "z_scores = stats.zscore(X)\n",
        "\n",
        "# Find indices of rows where Z-score is greater than 3 in absolute value\n",
        "outlier_indices = (np.abs(z_scores) > 3).any(axis=1)\n",
        "\n",
        "# Remove rows with outliers\n",
        "X_filtered = X[~outlier_indices]\n",
        "y_filtered = y[~outlier_indices]"
      ],
      "metadata": {
        "id": "BZD2pmKUxC4y"
      },
      "execution_count": null,
      "outputs": []
    },
    {
      "cell_type": "code",
      "source": [
        "from sklearn.preprocessing import MinMaxScaler\n",
        "from sklearn.model_selection import train_test_split\n",
        "# Initialize the MinMaxScaler\n",
        "scaler_X = MinMaxScaler()\n",
        "scaler_y = MinMaxScaler()\n",
        "\n",
        "# Fit and transform the independent variables (X)\n",
        "X_scaled = scaler_X.fit_transform(X)\n",
        "\n",
        "# Reshape y to a 2D array if it's a single feature\n",
        "if len(y.shape) == 1:\n",
        "    y = y.values.reshape(-1, 1)\n",
        "\n",
        "# Fit and transform the target variable (y)\n",
        "y_scaled = scaler_y.fit_transform(y)\n",
        "\n",
        "# Split the scaled data into training and testing sets\n",
        "X_train, X_test, y_train, y_test = train_test_split(X_scaled, y_scaled, test_size=0.2, random_state=42)"
      ],
      "metadata": {
        "id": "kBRrxMzBxRbd"
      },
      "execution_count": null,
      "outputs": []
    },
    {
      "source": [
        "from sklearn.ensemble import GradientBoostingRegressor\n",
        "from sklearn.metrics import mean_squared_error, r2_score\n",
        "\n",
        "# Create the Gradient Boosting model\n",
        "gbm_model = GradientBoostingRegressor(random_state=42)\n",
        "\n",
        "# Fit the model to the training data\n",
        "gbm_model.fit(X_train, y_train)\n",
        "\n",
        "# Predict on the test set\n",
        "y_pred_gbm = gbm_model.predict(X_test)\n",
        "\n",
        "# Calculate accuracy metrics\n",
        "mse_gbm = mean_squared_error(y_test, y_pred_gbm)\n",
        "r2_gbm = r2_score(y_test, y_pred_gbm)\n",
        "\n",
        "print(\"Gradient Boosting Machines - Mean Squared Error:\", mse_gbm)\n",
        "print(\"Gradient Boosting Machines - R-squared:\", r2_gbm)"
      ],
      "cell_type": "code",
      "metadata": {
        "colab": {
          "base_uri": "https://localhost:8080/",
          "height": 460
        },
        "id": "O-wdc8xKxeqg",
        "outputId": "818297c6-dae1-4fb1-b25b-68e98420a843"
      },
      "execution_count": null,
      "outputs": [
        {
          "output_type": "error",
          "ename": "ValueError",
          "evalue": "Input X contains NaN.\nGradientBoostingRegressor does not accept missing values encoded as NaN natively. For supervised learning, you might want to consider sklearn.ensemble.HistGradientBoostingClassifier and Regressor which accept missing values encoded as NaNs natively. Alternatively, it is possible to preprocess the data, for instance by using an imputer transformer in a pipeline or drop samples with missing values. See https://scikit-learn.org/stable/modules/impute.html You can find a list of all estimators that handle NaN values at the following page: https://scikit-learn.org/stable/modules/impute.html#estimators-that-handle-nan-values",
          "traceback": [
            "\u001b[0;31m---------------------------------------------------------------------------\u001b[0m",
            "\u001b[0;31mValueError\u001b[0m                                Traceback (most recent call last)",
            "\u001b[0;32m<ipython-input-62-1e4512416420>\u001b[0m in \u001b[0;36m<cell line: 8>\u001b[0;34m()\u001b[0m\n\u001b[1;32m      6\u001b[0m \u001b[0;34m\u001b[0m\u001b[0m\n\u001b[1;32m      7\u001b[0m \u001b[0;31m# Fit the model to the training data\u001b[0m\u001b[0;34m\u001b[0m\u001b[0;34m\u001b[0m\u001b[0m\n\u001b[0;32m----> 8\u001b[0;31m \u001b[0mgbm_model\u001b[0m\u001b[0;34m.\u001b[0m\u001b[0mfit\u001b[0m\u001b[0;34m(\u001b[0m\u001b[0mX_train\u001b[0m\u001b[0;34m,\u001b[0m \u001b[0my_train\u001b[0m\u001b[0;34m)\u001b[0m\u001b[0;34m\u001b[0m\u001b[0;34m\u001b[0m\u001b[0m\n\u001b[0m\u001b[1;32m      9\u001b[0m \u001b[0;34m\u001b[0m\u001b[0m\n\u001b[1;32m     10\u001b[0m \u001b[0;31m# Predict on the test set\u001b[0m\u001b[0;34m\u001b[0m\u001b[0;34m\u001b[0m\u001b[0m\n",
            "\u001b[0;32m/usr/local/lib/python3.10/dist-packages/sklearn/ensemble/_gb.py\u001b[0m in \u001b[0;36mfit\u001b[0;34m(self, X, y, sample_weight, monitor)\u001b[0m\n\u001b[1;32m    427\u001b[0m         \u001b[0;31m# trees use different types for X and y, checking them separately.\u001b[0m\u001b[0;34m\u001b[0m\u001b[0;34m\u001b[0m\u001b[0m\n\u001b[1;32m    428\u001b[0m \u001b[0;34m\u001b[0m\u001b[0m\n\u001b[0;32m--> 429\u001b[0;31m         X, y = self._validate_data(\n\u001b[0m\u001b[1;32m    430\u001b[0m             \u001b[0mX\u001b[0m\u001b[0;34m,\u001b[0m \u001b[0my\u001b[0m\u001b[0;34m,\u001b[0m \u001b[0maccept_sparse\u001b[0m\u001b[0;34m=\u001b[0m\u001b[0;34m[\u001b[0m\u001b[0;34m\"csr\"\u001b[0m\u001b[0;34m,\u001b[0m \u001b[0;34m\"csc\"\u001b[0m\u001b[0;34m,\u001b[0m \u001b[0;34m\"coo\"\u001b[0m\u001b[0;34m]\u001b[0m\u001b[0;34m,\u001b[0m \u001b[0mdtype\u001b[0m\u001b[0;34m=\u001b[0m\u001b[0mDTYPE\u001b[0m\u001b[0;34m,\u001b[0m \u001b[0mmulti_output\u001b[0m\u001b[0;34m=\u001b[0m\u001b[0;32mTrue\u001b[0m\u001b[0;34m\u001b[0m\u001b[0;34m\u001b[0m\u001b[0m\n\u001b[1;32m    431\u001b[0m         )\n",
            "\u001b[0;32m/usr/local/lib/python3.10/dist-packages/sklearn/base.py\u001b[0m in \u001b[0;36m_validate_data\u001b[0;34m(self, X, y, reset, validate_separately, **check_params)\u001b[0m\n\u001b[1;32m    582\u001b[0m                 \u001b[0my\u001b[0m \u001b[0;34m=\u001b[0m \u001b[0mcheck_array\u001b[0m\u001b[0;34m(\u001b[0m\u001b[0my\u001b[0m\u001b[0;34m,\u001b[0m \u001b[0minput_name\u001b[0m\u001b[0;34m=\u001b[0m\u001b[0;34m\"y\"\u001b[0m\u001b[0;34m,\u001b[0m \u001b[0;34m**\u001b[0m\u001b[0mcheck_y_params\u001b[0m\u001b[0;34m)\u001b[0m\u001b[0;34m\u001b[0m\u001b[0;34m\u001b[0m\u001b[0m\n\u001b[1;32m    583\u001b[0m             \u001b[0;32melse\u001b[0m\u001b[0;34m:\u001b[0m\u001b[0;34m\u001b[0m\u001b[0;34m\u001b[0m\u001b[0m\n\u001b[0;32m--> 584\u001b[0;31m                 \u001b[0mX\u001b[0m\u001b[0;34m,\u001b[0m \u001b[0my\u001b[0m \u001b[0;34m=\u001b[0m \u001b[0mcheck_X_y\u001b[0m\u001b[0;34m(\u001b[0m\u001b[0mX\u001b[0m\u001b[0;34m,\u001b[0m \u001b[0my\u001b[0m\u001b[0;34m,\u001b[0m \u001b[0;34m**\u001b[0m\u001b[0mcheck_params\u001b[0m\u001b[0;34m)\u001b[0m\u001b[0;34m\u001b[0m\u001b[0;34m\u001b[0m\u001b[0m\n\u001b[0m\u001b[1;32m    585\u001b[0m             \u001b[0mout\u001b[0m \u001b[0;34m=\u001b[0m \u001b[0mX\u001b[0m\u001b[0;34m,\u001b[0m \u001b[0my\u001b[0m\u001b[0;34m\u001b[0m\u001b[0;34m\u001b[0m\u001b[0m\n\u001b[1;32m    586\u001b[0m \u001b[0;34m\u001b[0m\u001b[0m\n",
            "\u001b[0;32m/usr/local/lib/python3.10/dist-packages/sklearn/utils/validation.py\u001b[0m in \u001b[0;36mcheck_X_y\u001b[0;34m(X, y, accept_sparse, accept_large_sparse, dtype, order, copy, force_all_finite, ensure_2d, allow_nd, multi_output, ensure_min_samples, ensure_min_features, y_numeric, estimator)\u001b[0m\n\u001b[1;32m   1104\u001b[0m         )\n\u001b[1;32m   1105\u001b[0m \u001b[0;34m\u001b[0m\u001b[0m\n\u001b[0;32m-> 1106\u001b[0;31m     X = check_array(\n\u001b[0m\u001b[1;32m   1107\u001b[0m         \u001b[0mX\u001b[0m\u001b[0;34m,\u001b[0m\u001b[0;34m\u001b[0m\u001b[0;34m\u001b[0m\u001b[0m\n\u001b[1;32m   1108\u001b[0m         \u001b[0maccept_sparse\u001b[0m\u001b[0;34m=\u001b[0m\u001b[0maccept_sparse\u001b[0m\u001b[0;34m,\u001b[0m\u001b[0;34m\u001b[0m\u001b[0;34m\u001b[0m\u001b[0m\n",
            "\u001b[0;32m/usr/local/lib/python3.10/dist-packages/sklearn/utils/validation.py\u001b[0m in \u001b[0;36mcheck_array\u001b[0;34m(array, accept_sparse, accept_large_sparse, dtype, order, copy, force_all_finite, ensure_2d, allow_nd, ensure_min_samples, ensure_min_features, estimator, input_name)\u001b[0m\n\u001b[1;32m    919\u001b[0m \u001b[0;34m\u001b[0m\u001b[0m\n\u001b[1;32m    920\u001b[0m         \u001b[0;32mif\u001b[0m \u001b[0mforce_all_finite\u001b[0m\u001b[0;34m:\u001b[0m\u001b[0;34m\u001b[0m\u001b[0;34m\u001b[0m\u001b[0m\n\u001b[0;32m--> 921\u001b[0;31m             _assert_all_finite(\n\u001b[0m\u001b[1;32m    922\u001b[0m                 \u001b[0marray\u001b[0m\u001b[0;34m,\u001b[0m\u001b[0;34m\u001b[0m\u001b[0;34m\u001b[0m\u001b[0m\n\u001b[1;32m    923\u001b[0m                 \u001b[0minput_name\u001b[0m\u001b[0;34m=\u001b[0m\u001b[0minput_name\u001b[0m\u001b[0;34m,\u001b[0m\u001b[0;34m\u001b[0m\u001b[0;34m\u001b[0m\u001b[0m\n",
            "\u001b[0;32m/usr/local/lib/python3.10/dist-packages/sklearn/utils/validation.py\u001b[0m in \u001b[0;36m_assert_all_finite\u001b[0;34m(X, allow_nan, msg_dtype, estimator_name, input_name)\u001b[0m\n\u001b[1;32m    159\u001b[0m                 \u001b[0;34m\"#estimators-that-handle-nan-values\"\u001b[0m\u001b[0;34m\u001b[0m\u001b[0;34m\u001b[0m\u001b[0m\n\u001b[1;32m    160\u001b[0m             )\n\u001b[0;32m--> 161\u001b[0;31m         \u001b[0;32mraise\u001b[0m \u001b[0mValueError\u001b[0m\u001b[0;34m(\u001b[0m\u001b[0mmsg_err\u001b[0m\u001b[0;34m)\u001b[0m\u001b[0;34m\u001b[0m\u001b[0;34m\u001b[0m\u001b[0m\n\u001b[0m\u001b[1;32m    162\u001b[0m \u001b[0;34m\u001b[0m\u001b[0m\n\u001b[1;32m    163\u001b[0m \u001b[0;34m\u001b[0m\u001b[0m\n",
            "\u001b[0;31mValueError\u001b[0m: Input X contains NaN.\nGradientBoostingRegressor does not accept missing values encoded as NaN natively. For supervised learning, you might want to consider sklearn.ensemble.HistGradientBoostingClassifier and Regressor which accept missing values encoded as NaNs natively. Alternatively, it is possible to preprocess the data, for instance by using an imputer transformer in a pipeline or drop samples with missing values. See https://scikit-learn.org/stable/modules/impute.html You can find a list of all estimators that handle NaN values at the following page: https://scikit-learn.org/stable/modules/impute.html#estimators-that-handle-nan-values"
          ]
        }
      ]
    },
    {
      "cell_type": "code",
      "source": [],
      "metadata": {
        "id": "mX7yQbQexZ0Z"
      },
      "execution_count": null,
      "outputs": []
    }
  ]
}